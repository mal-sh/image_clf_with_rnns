{
  "nbformat": 4,
  "nbformat_minor": 0,
  "metadata": {
    "colab": {
      "name": "RNN, LSTM, GRU, VISION TRANSFORMER FOR IMAGE CLASSIFICATION",
      "provenance": [],
      "collapsed_sections": []
    },
    "kernelspec": {
      "name": "python3",
      "display_name": "Python 3"
    }
  },
  "cells": [
    {
      "cell_type": "code",
      "metadata": {
        "id": "B451IHFsx5aU"
      },
      "source": [
        "from torchvision.datasets import MNIST\n",
        "from torchvision import datasets, models, transforms\n",
        "import torch\n",
        "from torch.utils.data import DataLoader, random_split\n",
        "import torch\n",
        "import torch.nn as nn\n",
        "from tqdm import tqdm\n",
        "import numpy as np\n",
        "import matplotlib.pyplot as plt\n",
        "from sklearn.metrics import confusion_matrix\n",
        "import math\n",
        "import time"
      ],
      "execution_count": null,
      "outputs": []
    },
    {
      "cell_type": "markdown",
      "metadata": {
        "id": "7_-D2yVivMI7"
      },
      "source": [
        "# Dataset Loading"
      ]
    },
    {
      "cell_type": "markdown",
      "metadata": {
        "id": "aylTzz7Ju2lq"
      },
      "source": [
        "Load MNIST data set from another server"
      ]
    },
    {
      "cell_type": "code",
      "metadata": {
        "colab": {
          "base_uri": "https://localhost:8080/"
        },
        "id": "ff8fYZ9bHwKY",
        "outputId": "ada7100b-80c3-4939-f820-ba65034a0672"
      },
      "source": [
        "!wget www.di.ens.fr/~lelarge/MNIST.tar.gz\n",
        "!tar -zxvf MNIST.tar.gz"
      ],
      "execution_count": null,
      "outputs": [
        {
          "output_type": "stream",
          "text": [
            "--2021-03-20 14:15:56--  http://www.di.ens.fr/~lelarge/MNIST.tar.gz\n",
            "Resolving www.di.ens.fr (www.di.ens.fr)... 129.199.99.14\n",
            "Connecting to www.di.ens.fr (www.di.ens.fr)|129.199.99.14|:80... connected.\n",
            "HTTP request sent, awaiting response... 302 Found\n",
            "Location: https://www.di.ens.fr/~lelarge/MNIST.tar.gz [following]\n",
            "--2021-03-20 14:15:56--  https://www.di.ens.fr/~lelarge/MNIST.tar.gz\n",
            "Connecting to www.di.ens.fr (www.di.ens.fr)|129.199.99.14|:443... connected.\n",
            "HTTP request sent, awaiting response... 200 OK\n",
            "Length: unspecified [application/x-gzip]\n",
            "Saving to: ‘MNIST.tar.gz’\n",
            "\n",
            "MNIST.tar.gz            [           <=>      ]  33.20M  15.0MB/s    in 2.2s    \n",
            "\n",
            "2021-03-20 14:15:59 (15.0 MB/s) - ‘MNIST.tar.gz’ saved [34813078]\n",
            "\n",
            "MNIST/\n",
            "MNIST/raw/\n",
            "MNIST/raw/train-labels-idx1-ubyte\n",
            "MNIST/raw/t10k-labels-idx1-ubyte.gz\n",
            "MNIST/raw/t10k-labels-idx1-ubyte\n",
            "MNIST/raw/t10k-images-idx3-ubyte.gz\n",
            "MNIST/raw/train-images-idx3-ubyte\n",
            "MNIST/raw/train-labels-idx1-ubyte.gz\n",
            "MNIST/raw/t10k-images-idx3-ubyte\n",
            "MNIST/raw/train-images-idx3-ubyte.gz\n",
            "MNIST/processed/\n",
            "MNIST/processed/training.pt\n",
            "MNIST/processed/test.pt\n"
          ],
          "name": "stdout"
        }
      ]
    },
    {
      "cell_type": "code",
      "metadata": {
        "id": "QVPCwvfyx7LX"
      },
      "source": [
        "def get_fashion_mnist_dataloaders(val_percentage=0.1, batch_size=1):\n",
        "  dataset = MNIST(\"./\", train=True,  download=False, transform=transforms.Compose([transforms.ToTensor()])) # loading it locally \n",
        "  dataset_test = MNIST(\"./\", train=False,  download=False, transform=transforms.Compose([transforms.ToTensor()]))\n",
        "  len_train = int(len(dataset) * (1.-val_percentage))\n",
        "  len_val = len(dataset) - len_train\n",
        "  dataset_train, dataset_val = random_split(dataset, [len_train, len_val])\n",
        "  data_loader_train = DataLoader(dataset_train, batch_size=batch_size,shuffle=True,num_workers=2)\n",
        "  data_loader_val   = DataLoader(dataset_val, batch_size=batch_size,shuffle=True,num_workers=2)\n",
        "  data_loader_test  = DataLoader(dataset_test, batch_size=batch_size,shuffle=True,num_workers=2)\n",
        "  return data_loader_train, data_loader_val, data_loader_test\n",
        "\n",
        "# call this once first to download the datasets\n",
        "_ = get_fashion_mnist_dataloaders()"
      ],
      "execution_count": null,
      "outputs": []
    },
    {
      "cell_type": "markdown",
      "metadata": {
        "id": "hzNNwZ4FvSa5"
      },
      "source": [
        "# Helper Functions"
      ]
    },
    {
      "cell_type": "code",
      "metadata": {
        "id": "_v7dVPdH9F0O"
      },
      "source": [
        "# code taken from https://github.com/sanchit2843/MLBasics/tree/master/IntelClassificationKaggle\n",
        "\n",
        "def plot_confusion_matrix(y_true, y_pred, classes,\n",
        "                          normalize=False,\n",
        "                          title=None,\n",
        "                          cmap=plt.cm.Blues):\n",
        "    \"\"\"\n",
        "    This function prints and plots the confusion matrix.\n",
        "    Normalization can be applied by setting `normalize=True`.\n",
        "    \"\"\"\n",
        "    if not title:\n",
        "        if normalize:\n",
        "            title = 'Normalized confusion matrix'\n",
        "        else:\n",
        "            title = 'Confusion matrix, without normalization'# Compute confusion matrix\n",
        "    cm = confusion_matrix(y_true, y_pred)\n",
        "    # Only use the labels that appear in the data\n",
        "    #classes = classes[unique_labels(y_true, y_pred)]\n",
        "    if normalize:\n",
        "        cm = cm.astype('float') / cm.sum(axis=1)[:, np.newaxis]\n",
        "        print(\"Normalized confusion matrix\")\n",
        "    else:\n",
        "        print('Confusion matrix, without normalization')\n",
        "        fig, ax = plt.subplots()\n",
        "    im = ax.imshow(cm, interpolation='nearest', cmap=cmap)\n",
        "    ax.figure.colorbar(im, ax=ax)\n",
        "    # We want to show all ticks...\n",
        "    ax.set(xticks=np.arange(cm.shape[1]),\n",
        "           yticks=np.arange(cm.shape[0]),\n",
        "           # ... and label them with the respective list entries\n",
        "           xticklabels=classes, yticklabels=classes,\n",
        "           title=title,\n",
        "           ylabel='True label',\n",
        "           xlabel='Predicted label')# Rotate the tick labels and set their alignment.\n",
        "    plt.setp(ax.get_xticklabels(), rotation=45, ha=\"right\",\n",
        "             rotation_mode=\"anchor\")# Loop over data dimensions and create text annotations.\n",
        "    fmt = '.2f' if normalize else 'd'\n",
        "    thresh = cm.max() / 2.\n",
        "    for i in range(cm.shape[0]):\n",
        "        for j in range(cm.shape[1]):\n",
        "            ax.text(j, i, format(cm[i, j], fmt),\n",
        "                    ha=\"center\", va=\"center\",\n",
        "                    color=\"white\" if cm[i, j] > thresh else \"black\")\n",
        "    fig.tight_layout()\n",
        "    return ax\n",
        "\n"
      ],
      "execution_count": null,
      "outputs": []
    },
    {
      "cell_type": "code",
      "metadata": {
        "id": "FgVbWp2W3Zuj"
      },
      "source": [
        "def reshape_input(y):\n",
        "    y = torch.FloatTensor(len(y), 10).zero_().scatter_(1,y.view(-1,1),1)\n",
        "    return y"
      ],
      "execution_count": null,
      "outputs": []
    },
    {
      "cell_type": "code",
      "metadata": {
        "colab": {
          "base_uri": "https://localhost:8080/",
          "height": 278
        },
        "id": "06atBO8zyD0z",
        "outputId": "a6bc2f5c-5a66-4bc1-9a79-9f582bc5bccf"
      },
      "source": [
        "def plot_samples():\n",
        "  a, _, _ = get_fashion_mnist_dataloaders()\n",
        "  num_row = 2\n",
        "  num_col = 5# plot images\n",
        "  num_images = num_row * num_col\n",
        "  fig, axes = plt.subplots(num_row, num_col, figsize=(1.5*num_col,2*num_row))\n",
        "  for i, (x,y) in enumerate(a):\n",
        "      if i >= num_images:\n",
        "        break\n",
        "      ax = axes[i//num_col, i%num_col]\n",
        "      x = (x.numpy().squeeze() * 255).astype(int)\n",
        "      y = y.numpy()[0]\n",
        "      ax.imshow(x, cmap='gray')\n",
        "      ax.set_title(f\"Label: {y}\")\n",
        "      \n",
        "  plt.tight_layout()\n",
        "  plt.show()\n",
        "plot_samples()"
      ],
      "execution_count": null,
      "outputs": [
        {
          "output_type": "display_data",
          "data": {
            "image/png": "[encoded data removed]",
            "text/plain": [
              "<Figure size 540x288 with 10 Axes>"
            ]
          },
          "metadata": {
            "tags": [],
            "needs_background": "light"
          }
        }
      ]
    },
    {
      "cell_type": "code",
      "metadata": {
        "id": "twx3TPIxyOsK"
      },
      "source": [
        "# simple logger to track progress during training\n",
        "class Logger:\n",
        "    def __init__(self):\n",
        "        self.losses_train = []\n",
        "        self.losses_valid = []\n",
        "        self.accuracies_train = []\n",
        "        self.accuracies_valid = []\n",
        "\n",
        "    def log(self, accuracy_train=0, loss_train=0, accuracy_valid=0, loss_valid=0):\n",
        "        self.losses_train.append(loss_train)\n",
        "        self.accuracies_train.append(accuracy_train)\n",
        "        self.losses_valid.append(loss_valid)\n",
        "        self.accuracies_valid.append(accuracy_valid)\n",
        "\n",
        "    def plot_loss_and_accuracy(self, train=True, valid=True):\n",
        "\n",
        "        assert train and valid, \"Cannot plot accuracy because neither train nor valid.\"\n",
        "\n",
        "        figure, (ax1, ax2) = plt.subplots(nrows=1, ncols=2,\n",
        "                                            figsize=(12, 6))\n",
        "        \n",
        "        if train:\n",
        "            ax1.plot(self.losses_train, label=\"Training\")\n",
        "            ax2.plot(self.accuracies_train, label=\"Training\")\n",
        "        if valid:\n",
        "            ax1.plot(self.losses_valid, label=\"Validation\")\n",
        "            ax1.set_title(\"CrossEntropy Loss\")\n",
        "            ax2.plot(self.accuracies_valid, label=\"Validation\")\n",
        "            ax2.set_title(\"Accuracy\")\n",
        "        \n",
        "        for ax in figure.axes:\n",
        "            ax.set_xlabel(\"Epoch\")\n",
        "            ax.legend(loc='best')\n",
        "            ax.set_axisbelow(True)\n",
        "            ax.minorticks_on()\n",
        "            ax.grid(True, which=\"major\", linestyle='-')\n",
        "            ax.grid(True, which=\"minor\", linestyle='--', color='lightgrey', alpha=.4)            \n",
        "  \n",
        "    def print_last():\n",
        "        print(f\"Epoch {len(self.losses_train):2d}, \\\n",
        "                    Train:loss={self.losses_train[-1]:.3f}, accuracy={self.accuracies_train[-1]*100:.1f}%, \\\n",
        "                    Valid: loss={self.losses_valid[-1]:.3f}, accuracy={self.losses_valid[-1]*100:.1f}%\", flush=True)"
      ],
      "execution_count": null,
      "outputs": []
    },
    {
      "cell_type": "markdown",
      "metadata": {
        "id": "Chrx-SZUveG-"
      },
      "source": [
        "# RNN, LSTM, GRU"
      ]
    },
    {
      "cell_type": "code",
      "metadata": {
        "id": "fHMNDv37ySyG"
      },
      "source": [
        "# https://blog.floydhub.com/a-beginners-guide-on-recurrent-neural-networks-with-pytorch/\n",
        "\n",
        "input_size = 28\n",
        "hidden_size = 128\n",
        "num_layers = 3\n",
        "num_classes = 10 \n",
        "\n",
        "class RNN(nn.Module):\n",
        "\n",
        "    def __init__(self, input_size, hidden_size, num_layers, num_classes):\n",
        "      super(RNN, self).__init__()\n",
        "      self.num_layers = num_layers\n",
        "      self.hidden_size = hidden_size\n",
        "      self.rnn = nn.RNN(input_size, hidden_size, num_layers, batch_first=True)\n",
        "      self.fc = nn.Linear(hidden_size, num_classes)\n",
        "\n",
        "    def forward(self, x):\n",
        "        \n",
        "        h0 = torch.zeros(self.num_layers, x.shape[0], self.hidden_size)\n",
        "        out, _ = self.rnn(x, h0)  \n",
        "        out = out[:, -1, :]\n",
        "        out = self.fc(out)\n",
        "        return out"
      ],
      "execution_count": null,
      "outputs": []
    },
    {
      "cell_type": "code",
      "metadata": {
        "id": "5Fo8X0GZwIUf"
      },
      "source": [
        "# https://pytorch.org/tutorials/beginner/nlp/sequence_models_tutorial.html\n",
        "\n",
        "input_size = 28\n",
        "hidden_size = 64\n",
        "num_layers = 2\n",
        "num_classes = 10 \n",
        "\n",
        "class LSTM(nn.Module):\n",
        "\n",
        "    def __init__(self, input_size, hidden_size, num_layers, num_classes):\n",
        "      super(LSTM, self).__init__()\n",
        "      self.num_layers = num_layers\n",
        "      self.hidden_size = hidden_size\n",
        "      self.lstm = nn.LSTM(input_size, hidden_size, num_layers, batch_first=True)\n",
        "      self.fc = nn.Linear(hidden_size, num_classes)\n",
        "\n",
        "    def forward(self, x):\n",
        "\n",
        "        initial_hidden_state = torch.zeros(self.num_layers, x.shape[0], self.hidden_size)\n",
        "        initial_cell_state = torch.zeros(self.num_layers, x.shape[0], self.hidden_size)\n",
        "        output, _ = self.lstm(x, (initial_hidden_state,initial_cell_state))  \n",
        "        return self.fc(output[:, -1, :]) # last time step\n",
        "         "
      ],
      "execution_count": null,
      "outputs": []
    },
    {
      "cell_type": "code",
      "metadata": {
        "id": "uJcDo4D6z6OF"
      },
      "source": [
        "# https://blog.floydhub.com/gru-with-pytorch/\n",
        "\n",
        "input_size = 28\n",
        "hidden_size = 64\n",
        "num_layers = 2\n",
        "num_classes = 10 \n",
        "\n",
        "class GRU(nn.Module):\n",
        "\n",
        "    def __init__(self, input_size, hidden_size, num_layers, num_classes):\n",
        "      super(GRU, self).__init__()\n",
        "      self.num_layers = num_layers\n",
        "      self.hidden_size = hidden_size\n",
        "      self.gru = nn.GRU(input_size, hidden_size, num_layers, batch_first=True)\n",
        "      self.fc = nn.Linear(hidden_size, num_classes)\n",
        "      self.relu = nn.ReLU()\n",
        "\n",
        "    def forward(self, x):\n",
        "        \n",
        "        initial_hidden_state = torch.zeros(self.num_layers, x.shape[0], self.hidden_size)\n",
        "        output, _ = self.gru(x, initial_hidden_state)\n",
        "        output = self.fc(self.relu(output[:,-1])) # last time step\n",
        "        return out"
      ],
      "execution_count": null,
      "outputs": []
    },
    {
      "cell_type": "code",
      "metadata": {
        "id": "ljCFYcdMKPlH"
      },
      "source": [
        "\n",
        "def accuracy_and_loss_whole_dataset(data_loader, model, isTest):\n",
        "  loss     = 0.\n",
        "  criterion = nn.CrossEntropyLoss()\n",
        "  n_correct = 0\n",
        "  n_samples = 0\n",
        "  missclassified_samples = []\n",
        "\n",
        "  with torch.no_grad():\n",
        "\n",
        "      for data, labels in data_loader:\n",
        "          data = data.reshape(-1, 28, input_size)\n",
        "          outputs = model(data)\n",
        "\n",
        "          xentrp   =  criterion(outputs, labels)\n",
        "\n",
        "          loss     = loss + xentrp.item()\n",
        "\n",
        "          _, predicted = torch.max(outputs.data, 1)\n",
        "\n",
        "          n_samples += outputs.shape[0]\n",
        "          n_correct += (predicted == labels).sum().item()\n",
        "\n",
        "      loss = loss / float(n_samples)\n",
        "\n",
        "      acc =  n_correct / n_samples\n",
        "      del n_samples\n",
        "\n",
        "      if isTest:\n",
        "        plot_confusion_matrix(labels, predicted, classes= [0,1,2,3,4,5,6,7,8,9],title='Confusion matrix, without normalization')\n",
        "\n",
        "\n",
        "      return acc, loss, missclassified_samples"
      ],
      "execution_count": null,
      "outputs": []
    },
    {
      "cell_type": "markdown",
      "metadata": {
        "id": "PLOzgQkLvjoH"
      },
      "source": [
        "# Training\n"
      ]
    },
    {
      "cell_type": "code",
      "metadata": {
        "id": "r9SwIp3U0OSl"
      },
      "source": [
        "def train(model, lr=0.1, nb_epochs=10, seed=None, data_loader_train=None, data_loader_val=None):\n",
        "    best_model = None\n",
        "    best_test_accuracy = 0\n",
        "    best_accuracy = 0\n",
        "    logger = Logger()\n",
        "\n",
        "    criterion = nn.CrossEntropyLoss()\n",
        "    optimizer = torch.optim.SGD(model.parameters(), lr=lr)  \n",
        "\n",
        "    total_losses = []\n",
        "\n",
        "    t0 = time.time()\n",
        "    for epoch in tqdm(range(nb_epochs)):\n",
        "        if epoch > 0:\n",
        "          for i, (data, labels) in enumerate(data_loader_train):  \n",
        "          \n",
        "              data = data.reshape(-1, 28, input_size) # reshape input \n",
        "    \n",
        "              optimizer.zero_grad()\n",
        "              outputs = model(data)\n",
        "              loss = criterion(outputs, labels)\n",
        "              loss.backward()\n",
        "              optimizer.step()\n",
        "              \n",
        "              total_losses.append(loss.item())\n",
        "\n",
        "\n",
        "        accuracy_train, loss_train, _ = accuracy_and_loss_whole_dataset(data_loader_train, model, False)\n",
        "        accuracy_val, loss_val, _ = accuracy_and_loss_whole_dataset(data_loader_val, model, False)\n",
        "        \n",
        "        if accuracy_val > best_accuracy:\n",
        "          best_model = model\n",
        "          best_val_accuracy = accuracy_val\n",
        "\n",
        "        logger.log(accuracy_train, loss_train, accuracy_val, loss_val)\n",
        "        if epoch % 1 == 0: # prints every 5 epochs, you can change it to % 1 for example to print each epoch\n",
        "\n",
        "\n",
        "          print((np.array(total_losses).sum())/ len(total_losses))\n",
        "\n",
        "          print(f\"Epoch {epoch:2d}, \\\n",
        "                  Train: loss={loss_train:.3f}, accuracy={accuracy_train*100:.1f}%, \\\n",
        "                  Valid: loss={loss_val:.3f}, accuracy={accuracy_val*100:.1f}%\", flush=True)\n",
        "          \n",
        "\n",
        "          total_losses = []\n",
        "\n",
        "    t1 = time.time()\n",
        "    print('\\n The total time for training in seconds is')\n",
        "    print(t1-t0)\n",
        "\n",
        "    return best_model, best_val_accuracy, logger\n"
      ],
      "execution_count": null,
      "outputs": []
    },
    {
      "cell_type": "code",
      "metadata": {
        "id": "i7gSLH_KK5Ml"
      },
      "source": [
        "from torchsummaryX import summary as s\n",
        "# !pip3 install torchsummaryX"
      ],
      "execution_count": null,
      "outputs": []
    },
    {
      "cell_type": "code",
      "metadata": {
        "colab": {
          "base_uri": "https://localhost:8080/",
          "height": 1000
        },
        "id": "6m3AzTfK0lf8",
        "outputId": "f1ca7388-0f81-4135-a3e8-a652f7eab3a6"
      },
      "source": [
        "batch_size = 100 \n",
        "lr = 0.01 \n",
        "\n",
        "data_loader_train, data_loader_val, data_loader_test = get_fashion_mnist_dataloaders(val_percentage=0.1, batch_size=batch_size)\n",
        "\n",
        "model = RNN(input_size, hidden_size, num_layers, num_classes)\n",
        "\n",
        "# s(model, torch.zeros((1, 28, 28)))\n",
        "\n",
        "best_model, best_val_accuracy, logger = train(model,lr=lr, nb_epochs=75,data_loader_train=data_loader_train, data_loader_val=data_loader_val)\n",
        "logger.plot_loss_and_accuracy()\n",
        "print(f\"Best validation accuracy = {best_val_accuracy*100:.3f}\")\n",
        "\n",
        "accuracy_test, loss_test, misclassified_samples = accuracy_and_loss_whole_dataset(data_loader_test, best_model, True)\n",
        "\n",
        "print(\"Evaluation of the best training model over test set\")\n",
        "print(\"------\")\n",
        "print(f\"Loss : {loss_test:.3f}\")\n",
        "print(f\"Accuracy : {accuracy_test*100.:.3f}\")"
      ],
      "execution_count": null,
      "outputs": [
        {
          "output_type": "stream",
          "text": [
            "\n",
            "\n",
            "  0%|          | 0/75 [00:00<?, ?it/s]\u001b[A\u001b[A"
          ],
          "name": "stderr"
        },
        {
          "output_type": "stream",
          "text": [
            "nan\n",
            "Epoch  0,                   Train: loss=0.023, accuracy=9.7%,                   Valid: loss=0.023, accuracy=9.5%\n"
          ],
          "name": "stdout"
        },
        {
          "output_type": "stream",
          "text": [
            "/usr/local/lib/python3.7/dist-packages/ipykernel_launcher.py:47: RuntimeWarning: invalid value encountered in double_scalars\n",
            "\n",
            "\n",
            "  1%|▏         | 1/75 [00:09<12:03,  9.78s/it]\u001b[A\u001b[A"
          ],
          "name": "stderr"
        },
        {
          "output_type": "stream",
          "text": [
            "2.2611307391413935\n",
            "Epoch  1,                   Train: loss=0.021, accuracy=25.4%,                   Valid: loss=0.021, accuracy=26.8%\n"
          ],
          "name": "stdout"
        },
        {
          "output_type": "stream",
          "text": [
            "\n",
            "\n",
            "  3%|▎         | 2/75 [00:36<18:06, 14.88s/it]\u001b[A\u001b[A"
          ],
          "name": "stderr"
        },
        {
          "output_type": "stream",
          "text": [
            "1.6097903412801249\n",
            "Epoch  2,                   Train: loss=0.013, accuracy=52.6%,                   Valid: loss=0.013, accuracy=53.7%\n"
          ],
          "name": "stdout"
        },
        {
          "output_type": "stream",
          "text": [
            "\n",
            "\n",
            "  4%|▍         | 3/75 [01:03<22:18, 18.59s/it]\u001b[A\u001b[A"
          ],
          "name": "stderr"
        },
        {
          "output_type": "stream",
          "text": [
            "1.2239961919961153\n",
            "Epoch  3,                   Train: loss=0.011, accuracy=62.1%,                   Valid: loss=0.011, accuracy=64.2%\n"
          ],
          "name": "stdout"
        },
        {
          "output_type": "stream",
          "text": [
            "\n",
            "\n",
            "  5%|▌         | 4/75 [01:30<24:54, 21.05s/it]\u001b[A\u001b[A"
          ],
          "name": "stderr"
        },
        {
          "output_type": "stream",
          "text": [
            "0.9859481430715985\n",
            "Epoch  4,                   Train: loss=0.008, accuracy=72.3%,                   Valid: loss=0.008, accuracy=74.0%\n"
          ],
          "name": "stdout"
        },
        {
          "output_type": "stream",
          "text": [
            "\n",
            "\n",
            "  7%|▋         | 5/75 [01:57<26:40, 22.86s/it]\u001b[A\u001b[A"
          ],
          "name": "stderr"
        },
        {
          "output_type": "stream",
          "text": [
            "0.7669125349433333\n",
            "Epoch  5,                   Train: loss=0.007, accuracy=79.1%,                   Valid: loss=0.006, accuracy=79.8%\n"
          ],
          "name": "stdout"
        },
        {
          "output_type": "stream",
          "text": [
            "\n",
            "\n",
            "  8%|▊         | 6/75 [02:24<27:41, 24.08s/it]\u001b[A\u001b[A"
          ],
          "name": "stderr"
        },
        {
          "output_type": "stream",
          "text": [
            "0.6480856683519152\n",
            "Epoch  6,                   Train: loss=0.006, accuracy=80.6%,                   Valid: loss=0.006, accuracy=82.1%\n"
          ],
          "name": "stdout"
        },
        {
          "output_type": "stream",
          "text": [
            "\n",
            "\n",
            "  9%|▉         | 7/75 [02:51<28:14, 24.92s/it]\u001b[A\u001b[A"
          ],
          "name": "stderr"
        },
        {
          "output_type": "stream",
          "text": [
            "0.5376523143163434\n",
            "Epoch  7,                   Train: loss=0.004, accuracy=87.6%,                   Valid: loss=0.004, accuracy=88.4%\n"
          ],
          "name": "stdout"
        },
        {
          "output_type": "stream",
          "text": [
            "\n",
            "\n",
            " 11%|█         | 8/75 [03:18<28:27, 25.49s/it]\u001b[A\u001b[A"
          ],
          "name": "stderr"
        },
        {
          "output_type": "stream",
          "text": [
            "0.43097352046105597\n",
            "Epoch  8,                   Train: loss=0.004, accuracy=89.8%,                   Valid: loss=0.004, accuracy=89.8%\n"
          ],
          "name": "stdout"
        },
        {
          "output_type": "stream",
          "text": [
            "\n",
            "\n",
            " 12%|█▏        | 9/75 [03:45<28:26, 25.85s/it]\u001b[A\u001b[A"
          ],
          "name": "stderr"
        },
        {
          "output_type": "stream",
          "text": [
            "0.3615462007621924\n",
            "Epoch  9,                   Train: loss=0.003, accuracy=91.3%,                   Valid: loss=0.003, accuracy=91.7%\n"
          ],
          "name": "stdout"
        },
        {
          "output_type": "stream",
          "text": [
            "\n",
            "\n",
            " 13%|█▎        | 10/75 [04:11<28:19, 26.15s/it]\u001b[A\u001b[A"
          ],
          "name": "stderr"
        },
        {
          "output_type": "stream",
          "text": [
            "0.3216672288046943\n",
            "Epoch 10,                   Train: loss=0.003, accuracy=92.3%,                   Valid: loss=0.003, accuracy=92.5%\n"
          ],
          "name": "stdout"
        },
        {
          "output_type": "stream",
          "text": [
            "\n",
            "\n",
            " 15%|█▍        | 11/75 [04:38<28:04, 26.32s/it]\u001b[A\u001b[A"
          ],
          "name": "stderr"
        },
        {
          "output_type": "stream",
          "text": [
            "0.28603109060614196\n",
            "Epoch 11,                   Train: loss=0.003, accuracy=92.7%,                   Valid: loss=0.003, accuracy=92.4%\n"
          ],
          "name": "stdout"
        },
        {
          "output_type": "stream",
          "text": [
            "\n",
            "\n",
            " 16%|█▌        | 12/75 [05:05<27:47, 26.47s/it]\u001b[A\u001b[A"
          ],
          "name": "stderr"
        },
        {
          "output_type": "stream",
          "text": [
            "0.26593432656868743\n",
            "Epoch 12,                   Train: loss=0.002, accuracy=93.6%,                   Valid: loss=0.002, accuracy=93.5%\n"
          ],
          "name": "stdout"
        },
        {
          "output_type": "stream",
          "text": [
            "\n",
            "\n",
            " 17%|█▋        | 13/75 [05:32<27:27, 26.56s/it]\u001b[A\u001b[A"
          ],
          "name": "stderr"
        },
        {
          "output_type": "stream",
          "text": [
            "0.2482640485934637\n",
            "Epoch 13,                   Train: loss=0.002, accuracy=93.7%,                   Valid: loss=0.002, accuracy=93.7%\n"
          ],
          "name": "stdout"
        },
        {
          "output_type": "stream",
          "text": [
            "\n",
            "\n",
            " 19%|█▊        | 14/75 [05:58<27:02, 26.59s/it]\u001b[A\u001b[A"
          ],
          "name": "stderr"
        },
        {
          "output_type": "stream",
          "text": [
            "0.22403542295926146\n",
            "Epoch 14,                   Train: loss=0.002, accuracy=93.5%,                   Valid: loss=0.002, accuracy=93.5%\n"
          ],
          "name": "stdout"
        },
        {
          "output_type": "stream",
          "text": [
            "\n",
            "\n",
            " 20%|██        | 15/75 [06:25<26:37, 26.63s/it]\u001b[A\u001b[A"
          ],
          "name": "stderr"
        },
        {
          "output_type": "stream",
          "text": [
            "0.215367875220599\n",
            "Epoch 15,                   Train: loss=0.002, accuracy=94.7%,                   Valid: loss=0.002, accuracy=94.4%\n"
          ],
          "name": "stdout"
        },
        {
          "output_type": "stream",
          "text": [
            "\n",
            "\n",
            " 21%|██▏       | 16/75 [06:52<26:23, 26.84s/it]\u001b[A\u001b[A"
          ],
          "name": "stderr"
        },
        {
          "output_type": "stream",
          "text": [
            "0.20568438146125387\n",
            "Epoch 16,                   Train: loss=0.002, accuracy=94.1%,                   Valid: loss=0.002, accuracy=94.1%\n"
          ],
          "name": "stdout"
        },
        {
          "output_type": "stream",
          "text": [
            "\n",
            "\n",
            " 23%|██▎       | 17/75 [07:20<26:02, 26.94s/it]\u001b[A\u001b[A"
          ],
          "name": "stderr"
        },
        {
          "output_type": "stream",
          "text": [
            "0.19060403894357109\n",
            "Epoch 17,                   Train: loss=0.002, accuracy=94.4%,                   Valid: loss=0.002, accuracy=94.2%\n"
          ],
          "name": "stdout"
        },
        {
          "output_type": "stream",
          "text": [
            "\n",
            "\n",
            " 24%|██▍       | 18/75 [07:46<25:35, 26.93s/it]\u001b[A\u001b[A"
          ],
          "name": "stderr"
        },
        {
          "output_type": "stream",
          "text": [
            "0.18190576943258444\n",
            "Epoch 18,                   Train: loss=0.002, accuracy=93.8%,                   Valid: loss=0.002, accuracy=93.7%\n"
          ],
          "name": "stdout"
        },
        {
          "output_type": "stream",
          "text": [
            "\n",
            "\n",
            " 25%|██▌       | 19/75 [08:13<25:07, 26.92s/it]\u001b[A\u001b[A"
          ],
          "name": "stderr"
        },
        {
          "output_type": "stream",
          "text": [
            "0.17188510804402607\n",
            "Epoch 19,                   Train: loss=0.002, accuracy=95.6%,                   Valid: loss=0.002, accuracy=95.1%\n"
          ],
          "name": "stdout"
        },
        {
          "output_type": "stream",
          "text": [
            "\n",
            "\n",
            " 27%|██▋       | 20/75 [08:40<24:39, 26.91s/it]\u001b[A\u001b[A"
          ],
          "name": "stderr"
        },
        {
          "output_type": "stream",
          "text": [
            "0.1632552584460764\n",
            "Epoch 20,                   Train: loss=0.001, accuracy=95.9%,                   Valid: loss=0.002, accuracy=95.3%\n"
          ],
          "name": "stdout"
        },
        {
          "output_type": "stream",
          "text": [
            "\n",
            "\n",
            " 28%|██▊       | 21/75 [09:07<24:12, 26.90s/it]\u001b[A\u001b[A"
          ],
          "name": "stderr"
        },
        {
          "output_type": "stream",
          "text": [
            "0.15677862296018888\n",
            "Epoch 21,                   Train: loss=0.001, accuracy=95.8%,                   Valid: loss=0.002, accuracy=95.5%\n"
          ],
          "name": "stdout"
        },
        {
          "output_type": "stream",
          "text": [
            "\n",
            "\n",
            " 29%|██▉       | 22/75 [09:34<23:44, 26.88s/it]\u001b[A\u001b[A"
          ],
          "name": "stderr"
        },
        {
          "output_type": "stream",
          "text": [
            "0.15316275890433678\n",
            "Epoch 22,                   Train: loss=0.001, accuracy=95.9%,                   Valid: loss=0.002, accuracy=95.7%\n"
          ],
          "name": "stdout"
        },
        {
          "output_type": "stream",
          "text": [
            "\n",
            "\n",
            " 31%|███       | 23/75 [10:01<23:16, 26.85s/it]\u001b[A\u001b[A"
          ],
          "name": "stderr"
        },
        {
          "output_type": "stream",
          "text": [
            "0.1459243997828\n",
            "Epoch 23,                   Train: loss=0.001, accuracy=96.4%,                   Valid: loss=0.001, accuracy=96.0%\n"
          ],
          "name": "stdout"
        },
        {
          "output_type": "stream",
          "text": [
            "\n",
            "\n",
            " 32%|███▏      | 24/75 [10:28<22:48, 26.83s/it]\u001b[A\u001b[A"
          ],
          "name": "stderr"
        },
        {
          "output_type": "stream",
          "text": [
            "0.14225551688146812\n",
            "Epoch 24,                   Train: loss=0.001, accuracy=96.4%,                   Valid: loss=0.001, accuracy=95.8%\n"
          ],
          "name": "stdout"
        },
        {
          "output_type": "stream",
          "text": [
            "\n",
            "\n",
            " 33%|███▎      | 25/75 [10:54<22:22, 26.85s/it]\u001b[A\u001b[A"
          ],
          "name": "stderr"
        },
        {
          "output_type": "stream",
          "text": [
            "0.13631554891320843\n",
            "Epoch 25,                   Train: loss=0.001, accuracy=96.5%,                   Valid: loss=0.001, accuracy=96.1%\n"
          ],
          "name": "stdout"
        },
        {
          "output_type": "stream",
          "text": [
            "\n",
            "\n",
            " 35%|███▍      | 26/75 [11:22<22:00, 26.95s/it]\u001b[A\u001b[A"
          ],
          "name": "stderr"
        },
        {
          "output_type": "stream",
          "text": [
            "0.13031117425265687\n",
            "Epoch 26,                   Train: loss=0.001, accuracy=96.2%,                   Valid: loss=0.002, accuracy=95.8%\n"
          ],
          "name": "stdout"
        },
        {
          "output_type": "stream",
          "text": [
            "\n",
            "\n",
            " 36%|███▌      | 27/75 [11:48<21:30, 26.89s/it]\u001b[A\u001b[A"
          ],
          "name": "stderr"
        },
        {
          "output_type": "stream",
          "text": [
            "0.12438263979016079\n",
            "Epoch 27,                   Train: loss=0.001, accuracy=96.7%,                   Valid: loss=0.001, accuracy=96.1%\n"
          ],
          "name": "stdout"
        },
        {
          "output_type": "stream",
          "text": [
            "\n",
            "\n",
            " 37%|███▋      | 28/75 [12:15<21:03, 26.89s/it]\u001b[A\u001b[A"
          ],
          "name": "stderr"
        },
        {
          "output_type": "stream",
          "text": [
            "0.12274097756448167\n",
            "Epoch 28,                   Train: loss=0.001, accuracy=97.0%,                   Valid: loss=0.001, accuracy=96.4%\n"
          ],
          "name": "stdout"
        },
        {
          "output_type": "stream",
          "text": [
            "\n",
            "\n",
            " 39%|███▊      | 29/75 [12:42<20:35, 26.86s/it]\u001b[A\u001b[A"
          ],
          "name": "stderr"
        },
        {
          "output_type": "stream",
          "text": [
            "0.1194074335783996\n",
            "Epoch 29,                   Train: loss=0.001, accuracy=96.6%,                   Valid: loss=0.001, accuracy=96.1%\n"
          ],
          "name": "stdout"
        },
        {
          "output_type": "stream",
          "text": [
            "\n",
            "\n",
            " 40%|████      | 30/75 [13:09<20:07, 26.84s/it]\u001b[A\u001b[A"
          ],
          "name": "stderr"
        },
        {
          "output_type": "stream",
          "text": [
            "0.11474035170826095\n",
            "Epoch 30,                   Train: loss=0.001, accuracy=97.0%,                   Valid: loss=0.001, accuracy=96.3%\n"
          ],
          "name": "stdout"
        },
        {
          "output_type": "stream",
          "text": [
            "\n",
            "\n",
            " 41%|████▏     | 31/75 [13:36<19:39, 26.81s/it]\u001b[A\u001b[A"
          ],
          "name": "stderr"
        },
        {
          "output_type": "stream",
          "text": [
            "0.11159356119352634\n",
            "Epoch 31,                   Train: loss=0.001, accuracy=97.2%,                   Valid: loss=0.001, accuracy=96.5%\n"
          ],
          "name": "stdout"
        },
        {
          "output_type": "stream",
          "text": [
            "\n",
            "\n",
            " 43%|████▎     | 32/75 [14:02<19:11, 26.79s/it]\u001b[A\u001b[A"
          ],
          "name": "stderr"
        },
        {
          "output_type": "stream",
          "text": [
            "0.11033085497027194\n",
            "Epoch 32,                   Train: loss=0.001, accuracy=97.0%,                   Valid: loss=0.001, accuracy=96.6%\n"
          ],
          "name": "stdout"
        },
        {
          "output_type": "stream",
          "text": [
            "\n",
            "\n",
            " 44%|████▍     | 33/75 [14:29<18:44, 26.77s/it]\u001b[A\u001b[A"
          ],
          "name": "stderr"
        },
        {
          "output_type": "stream",
          "text": [
            "0.10412606442243688\n",
            "Epoch 33,                   Train: loss=0.001, accuracy=97.1%,                   Valid: loss=0.001, accuracy=96.4%\n"
          ],
          "name": "stdout"
        },
        {
          "output_type": "stream",
          "text": [
            "\n",
            "\n",
            " 45%|████▌     | 34/75 [14:56<18:17, 26.77s/it]\u001b[A\u001b[A"
          ],
          "name": "stderr"
        },
        {
          "output_type": "stream",
          "text": [
            "0.10101023355878337\n",
            "Epoch 34,                   Train: loss=0.001, accuracy=96.1%,                   Valid: loss=0.001, accuracy=95.6%\n"
          ],
          "name": "stdout"
        },
        {
          "output_type": "stream",
          "text": [
            "\n",
            "\n",
            " 47%|████▋     | 35/75 [15:23<17:52, 26.81s/it]\u001b[A\u001b[A"
          ],
          "name": "stderr"
        },
        {
          "output_type": "stream",
          "text": [
            "0.10010935846302245\n",
            "Epoch 35,                   Train: loss=0.001, accuracy=97.1%,                   Valid: loss=0.001, accuracy=96.5%\n"
          ],
          "name": "stdout"
        },
        {
          "output_type": "stream",
          "text": [
            "\n",
            "\n",
            " 48%|████▊     | 36/75 [15:50<17:26, 26.83s/it]\u001b[A\u001b[A"
          ],
          "name": "stderr"
        },
        {
          "output_type": "stream",
          "text": [
            "0.0969295900211566\n",
            "Epoch 36,                   Train: loss=0.001, accuracy=97.3%,                   Valid: loss=0.001, accuracy=96.7%\n"
          ],
          "name": "stdout"
        },
        {
          "output_type": "stream",
          "text": [
            "\n",
            "\n",
            " 49%|████▉     | 37/75 [16:16<16:58, 26.81s/it]\u001b[A\u001b[A"
          ],
          "name": "stderr"
        },
        {
          "output_type": "stream",
          "text": [
            "0.09690826203915533\n",
            "Epoch 37,                   Train: loss=0.001, accuracy=97.5%,                   Valid: loss=0.001, accuracy=96.8%\n"
          ],
          "name": "stdout"
        },
        {
          "output_type": "stream",
          "text": [
            "\n",
            "\n",
            " 51%|█████     | 38/75 [16:43<16:32, 26.81s/it]\u001b[A\u001b[A"
          ],
          "name": "stderr"
        },
        {
          "output_type": "stream",
          "text": [
            "0.09388778892311234\n",
            "Epoch 38,                   Train: loss=0.001, accuracy=97.6%,                   Valid: loss=0.001, accuracy=97.0%\n"
          ],
          "name": "stdout"
        },
        {
          "output_type": "stream",
          "text": [
            "\n",
            "\n",
            " 52%|█████▏    | 39/75 [17:10<16:05, 26.81s/it]\u001b[A\u001b[A"
          ],
          "name": "stderr"
        },
        {
          "output_type": "stream",
          "text": [
            "0.09167741898930183\n",
            "Epoch 39,                   Train: loss=0.001, accuracy=97.6%,                   Valid: loss=0.001, accuracy=97.0%\n"
          ],
          "name": "stdout"
        },
        {
          "output_type": "stream",
          "text": [
            "\n",
            "\n",
            " 53%|█████▎    | 40/75 [17:37<15:38, 26.80s/it]\u001b[A\u001b[A"
          ],
          "name": "stderr"
        },
        {
          "output_type": "stream",
          "text": [
            "0.08852768969394405\n",
            "Epoch 40,                   Train: loss=0.001, accuracy=97.6%,                   Valid: loss=0.001, accuracy=97.0%\n"
          ],
          "name": "stdout"
        },
        {
          "output_type": "stream",
          "text": [
            "\n",
            "\n",
            " 55%|█████▍    | 41/75 [18:04<15:11, 26.80s/it]\u001b[A\u001b[A"
          ],
          "name": "stderr"
        },
        {
          "output_type": "stream",
          "text": [
            "0.0861315944749448\n",
            "Epoch 41,                   Train: loss=0.001, accuracy=97.9%,                   Valid: loss=0.001, accuracy=97.2%\n"
          ],
          "name": "stdout"
        },
        {
          "output_type": "stream",
          "text": [
            "\n",
            "\n",
            " 56%|█████▌    | 42/75 [18:30<14:43, 26.77s/it]\u001b[A\u001b[A"
          ],
          "name": "stderr"
        },
        {
          "output_type": "stream",
          "text": [
            "0.08561439785450974\n",
            "Epoch 42,                   Train: loss=0.001, accuracy=97.9%,                   Valid: loss=0.001, accuracy=97.0%\n"
          ],
          "name": "stdout"
        },
        {
          "output_type": "stream",
          "text": [
            "\n",
            "\n",
            " 57%|█████▋    | 43/75 [18:57<14:15, 26.75s/it]\u001b[A\u001b[A"
          ],
          "name": "stderr"
        },
        {
          "output_type": "stream",
          "text": [
            "0.08264893205250028\n",
            "Epoch 43,                   Train: loss=0.001, accuracy=97.9%,                   Valid: loss=0.001, accuracy=97.3%\n"
          ],
          "name": "stdout"
        },
        {
          "output_type": "stream",
          "text": [
            "\n",
            "\n",
            " 59%|█████▊    | 44/75 [19:24<13:50, 26.78s/it]\u001b[A\u001b[A"
          ],
          "name": "stderr"
        },
        {
          "output_type": "stream",
          "text": [
            "0.08105045747598288\n",
            "Epoch 44,                   Train: loss=0.001, accuracy=98.0%,                   Valid: loss=0.001, accuracy=97.5%\n"
          ],
          "name": "stdout"
        },
        {
          "output_type": "stream",
          "text": [
            "\n",
            "\n",
            " 60%|██████    | 45/75 [19:50<13:22, 26.76s/it]\u001b[A\u001b[A"
          ],
          "name": "stderr"
        },
        {
          "output_type": "stream",
          "text": [
            "0.08089181941813203\n",
            "Epoch 45,                   Train: loss=0.001, accuracy=98.1%,                   Valid: loss=0.001, accuracy=97.5%\n"
          ],
          "name": "stdout"
        },
        {
          "output_type": "stream",
          "text": [
            "\n",
            "\n",
            " 61%|██████▏   | 46/75 [20:17<12:55, 26.74s/it]\u001b[A\u001b[A"
          ],
          "name": "stderr"
        },
        {
          "output_type": "stream",
          "text": [
            "0.07823640831090786\n",
            "Epoch 46,                   Train: loss=0.001, accuracy=97.9%,                   Valid: loss=0.001, accuracy=97.4%\n"
          ],
          "name": "stdout"
        },
        {
          "output_type": "stream",
          "text": [
            "\n",
            "\n",
            " 63%|██████▎   | 47/75 [20:44<12:28, 26.73s/it]\u001b[A\u001b[A"
          ],
          "name": "stderr"
        },
        {
          "output_type": "stream",
          "text": [
            "0.07565055176339767\n",
            "Epoch 47,                   Train: loss=0.001, accuracy=97.8%,                   Valid: loss=0.001, accuracy=97.4%\n"
          ],
          "name": "stdout"
        },
        {
          "output_type": "stream",
          "text": [
            "\n",
            "\n",
            " 64%|██████▍   | 48/75 [21:11<12:01, 26.74s/it]\u001b[A\u001b[A"
          ],
          "name": "stderr"
        },
        {
          "output_type": "stream",
          "text": [
            "0.07301945695998492\n",
            "Epoch 48,                   Train: loss=0.001, accuracy=97.3%,                   Valid: loss=0.001, accuracy=96.9%\n"
          ],
          "name": "stdout"
        },
        {
          "output_type": "stream",
          "text": [
            "\n",
            "\n",
            " 65%|██████▌   | 49/75 [21:38<11:36, 26.79s/it]\u001b[A\u001b[A"
          ],
          "name": "stderr"
        },
        {
          "output_type": "stream",
          "text": [
            "0.07282742169961609\n",
            "Epoch 49,                   Train: loss=0.001, accuracy=97.9%,                   Valid: loss=0.001, accuracy=97.4%\n"
          ],
          "name": "stdout"
        },
        {
          "output_type": "stream",
          "text": [
            "\n",
            "\n",
            " 67%|██████▋   | 50/75 [22:04<11:09, 26.79s/it]\u001b[A\u001b[A"
          ],
          "name": "stderr"
        },
        {
          "output_type": "stream",
          "text": [
            "0.07156553865255168\n",
            "Epoch 50,                   Train: loss=0.001, accuracy=98.2%,                   Valid: loss=0.001, accuracy=97.7%\n"
          ],
          "name": "stdout"
        },
        {
          "output_type": "stream",
          "text": [
            "\n",
            "\n",
            " 68%|██████▊   | 51/75 [22:31<10:43, 26.82s/it]\u001b[A\u001b[A"
          ],
          "name": "stderr"
        },
        {
          "output_type": "stream",
          "text": [
            "0.0713833304691232\n",
            "Epoch 51,                   Train: loss=0.001, accuracy=98.1%,                   Valid: loss=0.001, accuracy=97.6%\n"
          ],
          "name": "stdout"
        },
        {
          "output_type": "stream",
          "text": [
            "\n",
            "\n",
            " 69%|██████▉   | 52/75 [22:58<10:18, 26.89s/it]\u001b[A\u001b[A"
          ],
          "name": "stderr"
        },
        {
          "output_type": "stream",
          "text": [
            "0.0711479846664049\n",
            "Epoch 52,                   Train: loss=0.001, accuracy=98.1%,                   Valid: loss=0.001, accuracy=97.5%\n"
          ],
          "name": "stdout"
        },
        {
          "output_type": "stream",
          "text": [
            "\n",
            "\n",
            " 71%|███████   | 53/75 [23:25<09:50, 26.84s/it]\u001b[A\u001b[A"
          ],
          "name": "stderr"
        },
        {
          "output_type": "stream",
          "text": [
            "0.0688312203735458\n",
            "Epoch 53,                   Train: loss=0.001, accuracy=98.4%,                   Valid: loss=0.001, accuracy=97.6%\n"
          ],
          "name": "stdout"
        },
        {
          "output_type": "stream",
          "text": [
            "\n",
            "\n",
            " 72%|███████▏  | 54/75 [23:52<09:24, 26.87s/it]\u001b[A\u001b[A"
          ],
          "name": "stderr"
        },
        {
          "output_type": "stream",
          "text": [
            "0.0662046984890131\n",
            "Epoch 54,                   Train: loss=0.001, accuracy=98.3%,                   Valid: loss=0.001, accuracy=97.7%\n"
          ],
          "name": "stdout"
        },
        {
          "output_type": "stream",
          "text": [
            "\n",
            "\n",
            " 73%|███████▎  | 55/75 [24:19<08:59, 26.98s/it]\u001b[A\u001b[A"
          ],
          "name": "stderr"
        },
        {
          "output_type": "stream",
          "text": [
            "0.06480860648228338\n",
            "Epoch 55,                   Train: loss=0.001, accuracy=97.9%,                   Valid: loss=0.001, accuracy=97.5%\n"
          ],
          "name": "stdout"
        },
        {
          "output_type": "stream",
          "text": [
            "\n",
            "\n",
            " 75%|███████▍  | 56/75 [24:46<08:32, 26.96s/it]\u001b[A\u001b[A"
          ],
          "name": "stderr"
        },
        {
          "output_type": "stream",
          "text": [
            "0.06350392061458142\n",
            "Epoch 56,                   Train: loss=0.001, accuracy=98.6%,                   Valid: loss=0.001, accuracy=98.0%\n"
          ],
          "name": "stdout"
        },
        {
          "output_type": "stream",
          "text": [
            "\n",
            "\n",
            " 76%|███████▌  | 57/75 [25:13<08:05, 26.97s/it]\u001b[A\u001b[A"
          ],
          "name": "stderr"
        },
        {
          "output_type": "stream",
          "text": [
            "0.06476412856330474\n",
            "Epoch 57,                   Train: loss=0.001, accuracy=98.4%,                   Valid: loss=0.001, accuracy=97.6%\n"
          ],
          "name": "stdout"
        },
        {
          "output_type": "stream",
          "text": [
            "\n",
            "\n",
            " 77%|███████▋  | 58/75 [25:40<07:38, 26.94s/it]\u001b[A\u001b[A"
          ],
          "name": "stderr"
        },
        {
          "output_type": "stream",
          "text": [
            "0.0627860767663353\n",
            "Epoch 58,                   Train: loss=0.001, accuracy=98.1%,                   Valid: loss=0.001, accuracy=97.5%\n"
          ],
          "name": "stdout"
        },
        {
          "output_type": "stream",
          "text": [
            "\n",
            "\n",
            " 79%|███████▊  | 59/75 [26:07<07:10, 26.93s/it]\u001b[A\u001b[A"
          ],
          "name": "stderr"
        },
        {
          "output_type": "stream",
          "text": [
            "0.05979584301132019\n",
            "Epoch 59,                   Train: loss=0.001, accuracy=98.2%,                   Valid: loss=0.001, accuracy=97.5%\n"
          ],
          "name": "stdout"
        },
        {
          "output_type": "stream",
          "text": [
            "\n",
            "\n",
            " 80%|████████  | 60/75 [26:34<06:43, 26.89s/it]\u001b[A\u001b[A"
          ],
          "name": "stderr"
        },
        {
          "output_type": "stream",
          "text": [
            "0.06145113066735643\n",
            "Epoch 60,                   Train: loss=0.001, accuracy=98.4%,                   Valid: loss=0.001, accuracy=97.7%\n"
          ],
          "name": "stdout"
        },
        {
          "output_type": "stream",
          "text": [
            "\n",
            "\n",
            " 81%|████████▏ | 61/75 [27:01<06:17, 26.96s/it]\u001b[A\u001b[A"
          ],
          "name": "stderr"
        },
        {
          "output_type": "stream",
          "text": [
            "0.05909550559396545\n",
            "Epoch 61,                   Train: loss=0.001, accuracy=98.5%,                   Valid: loss=0.001, accuracy=97.8%\n"
          ],
          "name": "stdout"
        },
        {
          "output_type": "stream",
          "text": [
            "\n",
            "\n",
            " 83%|████████▎ | 62/75 [27:28<05:49, 26.91s/it]\u001b[A\u001b[A"
          ],
          "name": "stderr"
        },
        {
          "output_type": "stream",
          "text": [
            "0.058311073459615864\n",
            "Epoch 62,                   Train: loss=0.001, accuracy=98.6%,                   Valid: loss=0.001, accuracy=97.7%\n"
          ],
          "name": "stdout"
        },
        {
          "output_type": "stream",
          "text": [
            "\n",
            "\n",
            " 84%|████████▍ | 63/75 [27:55<05:23, 26.96s/it]\u001b[A\u001b[A"
          ],
          "name": "stderr"
        },
        {
          "output_type": "stream",
          "text": [
            "0.05841819266357494\n",
            "Epoch 63,                   Train: loss=0.001, accuracy=98.5%,                   Valid: loss=0.001, accuracy=97.6%\n"
          ],
          "name": "stdout"
        },
        {
          "output_type": "stream",
          "text": [
            "\n",
            "\n",
            " 85%|████████▌ | 64/75 [28:22<04:57, 27.07s/it]\u001b[A\u001b[A"
          ],
          "name": "stderr"
        },
        {
          "output_type": "stream",
          "text": [
            "0.056571370301147304\n",
            "Epoch 64,                   Train: loss=0.000, accuracy=98.7%,                   Valid: loss=0.001, accuracy=97.9%\n"
          ],
          "name": "stdout"
        },
        {
          "output_type": "stream",
          "text": [
            "\n",
            "\n",
            " 87%|████████▋ | 65/75 [28:49<04:30, 27.03s/it]\u001b[A\u001b[A"
          ],
          "name": "stderr"
        },
        {
          "output_type": "stream",
          "text": [
            "0.05521921344118676\n",
            "Epoch 65,                   Train: loss=0.000, accuracy=98.8%,                   Valid: loss=0.001, accuracy=98.0%\n"
          ],
          "name": "stdout"
        },
        {
          "output_type": "stream",
          "text": [
            "\n",
            "\n",
            " 88%|████████▊ | 66/75 [29:16<04:02, 26.97s/it]\u001b[A\u001b[A"
          ],
          "name": "stderr"
        },
        {
          "output_type": "stream",
          "text": [
            "0.05480839328460947\n",
            "Epoch 66,                   Train: loss=0.000, accuracy=98.6%,                   Valid: loss=0.001, accuracy=97.8%\n"
          ],
          "name": "stdout"
        },
        {
          "output_type": "stream",
          "text": [
            "\n",
            "\n",
            " 89%|████████▉ | 67/75 [29:42<03:35, 26.90s/it]\u001b[A\u001b[A"
          ],
          "name": "stderr"
        },
        {
          "output_type": "stream",
          "text": [
            "0.05476392491513656\n",
            "Epoch 67,                   Train: loss=0.001, accuracy=98.6%,                   Valid: loss=0.001, accuracy=97.8%\n"
          ],
          "name": "stdout"
        },
        {
          "output_type": "stream",
          "text": [
            "\n",
            "\n",
            " 91%|█████████ | 68/75 [30:09<03:08, 26.86s/it]\u001b[A\u001b[A"
          ],
          "name": "stderr"
        },
        {
          "output_type": "stream",
          "text": [
            "0.0528109930438438\n",
            "Epoch 68,                   Train: loss=0.001, accuracy=98.3%,                   Valid: loss=0.001, accuracy=97.7%\n"
          ],
          "name": "stdout"
        },
        {
          "output_type": "stream",
          "text": [
            "\n",
            "\n",
            " 92%|█████████▏| 69/75 [30:36<02:41, 26.89s/it]\u001b[A\u001b[A"
          ],
          "name": "stderr"
        },
        {
          "output_type": "stream",
          "text": [
            "0.05411722268478048\n",
            "Epoch 69,                   Train: loss=0.000, accuracy=98.6%,                   Valid: loss=0.001, accuracy=97.9%\n"
          ],
          "name": "stdout"
        },
        {
          "output_type": "stream",
          "text": [
            "\n",
            "\n",
            " 93%|█████████▎| 70/75 [31:03<02:14, 26.88s/it]\u001b[A\u001b[A"
          ],
          "name": "stderr"
        },
        {
          "output_type": "stream",
          "text": [
            "0.05238934214985757\n",
            "Epoch 70,                   Train: loss=0.000, accuracy=98.7%,                   Valid: loss=0.001, accuracy=98.0%\n"
          ],
          "name": "stdout"
        },
        {
          "output_type": "stream",
          "text": [
            "\n",
            "\n",
            " 95%|█████████▍| 71/75 [31:30<01:47, 26.87s/it]\u001b[A\u001b[A"
          ],
          "name": "stderr"
        },
        {
          "output_type": "stream",
          "text": [
            "0.0514709478330419\n",
            "Epoch 71,                   Train: loss=0.000, accuracy=98.8%,                   Valid: loss=0.001, accuracy=98.0%\n"
          ],
          "name": "stdout"
        },
        {
          "output_type": "stream",
          "text": [
            "\n",
            "\n",
            " 96%|█████████▌| 72/75 [31:57<01:20, 26.85s/it]\u001b[A\u001b[A"
          ],
          "name": "stderr"
        },
        {
          "output_type": "stream",
          "text": [
            "0.04930701902808828\n",
            "Epoch 72,                   Train: loss=0.000, accuracy=98.6%,                   Valid: loss=0.001, accuracy=97.7%\n"
          ],
          "name": "stdout"
        },
        {
          "output_type": "stream",
          "text": [
            "\n",
            "\n",
            " 97%|█████████▋| 73/75 [32:24<00:53, 26.86s/it]\u001b[A\u001b[A"
          ],
          "name": "stderr"
        },
        {
          "output_type": "stream",
          "text": [
            "0.04973876497846235\n",
            "Epoch 73,                   Train: loss=0.001, accuracy=98.5%,                   Valid: loss=0.001, accuracy=97.8%\n"
          ],
          "name": "stdout"
        },
        {
          "output_type": "stream",
          "text": [
            "\n",
            "\n",
            " 99%|█████████▊| 74/75 [32:50<00:26, 26.85s/it]\u001b[A\u001b[A"
          ],
          "name": "stderr"
        },
        {
          "output_type": "stream",
          "text": [
            "0.04859314303482986\n",
            "Epoch 74,                   Train: loss=0.000, accuracy=98.7%,                   Valid: loss=0.001, accuracy=97.9%\n"
          ],
          "name": "stdout"
        },
        {
          "output_type": "stream",
          "text": [
            "\n",
            "\n",
            "100%|██████████| 75/75 [33:17<00:00, 26.64s/it]"
          ],
          "name": "stderr"
        },
        {
          "output_type": "stream",
          "text": [
            "\n",
            " The total time for training in seconds is\n",
            "1997.7280542850494\n",
            "Best validation accuracy = 97.917\n"
          ],
          "name": "stdout"
        },
        {
          "output_type": "stream",
          "text": [
            "\n"
          ],
          "name": "stderr"
        },
        {
          "output_type": "stream",
          "text": [
            "Confusion matrix, without normalization\n",
            "Evaluation of the best training model over test set\n",
            "------\n",
            "Loss : 0.001\n",
            "Accuracy : 97.690\n"
          ],
          "name": "stdout"
        },
        {
          "output_type": "display_data",
          "data": {
            "image/png": "[encoded data removed]",
            "text/plain": [
              "<Figure size 864x432 with 2 Axes>"
            ]
          },
          "metadata": {
            "tags": [],
            "needs_background": "light"
          }
        },
        {
          "output_type": "display_data",
          "data": {
            "image/png": "[encoded data removed]",
            "text/plain": [
              "<Figure size 432x288 with 2 Axes>"
            ]
          },
          "metadata": {
            "tags": [],
            "needs_background": "light"
          }
        }
      ]
    },
    {
      "cell_type": "code",
      "metadata": {
        "id": "v9CpYPqT29nw",
        "colab": {
          "base_uri": "https://localhost:8080/",
          "height": 352
        },
        "outputId": "0b448d27-981e-4c65-cf61-d9cf7e50fc1a"
      },
      "source": [
        "\n",
        "model = LSTM(input_size, hidden_size, num_layers, num_classes)\n",
        "\n",
        "s(model, torch.zeros((1, 28, 28)))\n"
      ],
      "execution_count": null,
      "outputs": [
        {
          "output_type": "stream",
          "text": [
            "===================================================\n",
            "       Kernel Shape Output Shape  Params  Mult-Adds\n",
            "Layer                                              \n",
            "0_lstm            -  [1, 28, 64]   57344      56320\n",
            "1_fc       [64, 10]      [1, 10]     650        640\n",
            "---------------------------------------------------\n",
            "                      Totals\n",
            "Total params           57994\n",
            "Trainable params       57994\n",
            "Non-trainable params       0\n",
            "Mult-Adds              56960\n",
            "===================================================\n"
          ],
          "name": "stdout"
        },
        {
          "output_type": "execute_result",
          "data": {
            "text/html": [
              "<div>\n",
              "<style scoped>\n",
              "    .dataframe tbody tr th:only-of-type {\n",
              "        vertical-align: middle;\n",
              "    }\n",
              "\n",
              "    .dataframe tbody tr th {\n",
              "        vertical-align: top;\n",
              "    }\n",
              "\n",
              "    .dataframe thead th {\n",
              "        text-align: right;\n",
              "    }\n",
              "</style>\n",
              "<table border=\"1\" class=\"dataframe\">\n",
              "  <thead>\n",
              "    <tr style=\"text-align: right;\">\n",
              "      <th></th>\n",
              "      <th>Kernel Shape</th>\n",
              "      <th>Output Shape</th>\n",
              "      <th>Params</th>\n",
              "      <th>Mult-Adds</th>\n",
              "    </tr>\n",
              "    <tr>\n",
              "      <th>Layer</th>\n",
              "      <th></th>\n",
              "      <th></th>\n",
              "      <th></th>\n",
              "      <th></th>\n",
              "    </tr>\n",
              "  </thead>\n",
              "  <tbody>\n",
              "    <tr>\n",
              "      <th>0_lstm</th>\n",
              "      <td>-</td>\n",
              "      <td>[1, 28, 64]</td>\n",
              "      <td>57344</td>\n",
              "      <td>56320</td>\n",
              "    </tr>\n",
              "    <tr>\n",
              "      <th>1_fc</th>\n",
              "      <td>[64, 10]</td>\n",
              "      <td>[1, 10]</td>\n",
              "      <td>650</td>\n",
              "      <td>640</td>\n",
              "    </tr>\n",
              "  </tbody>\n",
              "</table>\n",
              "</div>"
            ],
            "text/plain": [
              "       Kernel Shape Output Shape  Params  Mult-Adds\n",
              "Layer                                              \n",
              "0_lstm            -  [1, 28, 64]   57344      56320\n",
              "1_fc       [64, 10]      [1, 10]     650        640"
            ]
          },
          "metadata": {
            "tags": []
          },
          "execution_count": 18
        }
      ]
    },
    {
      "cell_type": "code",
      "metadata": {
        "id": "-MSejC192G7Q",
        "colab": {
          "base_uri": "https://localhost:8080/",
          "height": 1000
        },
        "outputId": "a30bf442-6515-4524-ae37-252881c4a27a"
      },
      "source": [
        "batch_size = 100 \n",
        "lr = 0.01 \n",
        "\n",
        "data_loader_train, data_loader_val, data_loader_test = get_fashion_mnist_dataloaders(val_percentage=0.1, batch_size=batch_size)\n",
        "\n",
        "model = LSTM(input_size, hidden_size, num_layers, num_classes)\n",
        "best_model, best_val_accuracy, logger = train(model,lr=lr, nb_epochs=75,data_loader_train=data_loader_train, data_loader_val=data_loader_val)\n",
        "logger.plot_loss_and_accuracy()\n",
        "print(f\"Best validation accuracy = {best_val_accuracy*100:.3f}\")\n",
        "\n",
        "accuracy_test, loss_test, misclassified_samples = accuracy_and_loss_whole_dataset(data_loader_test, best_model, True)\n",
        "print(\"Evaluation of the best training model over test set\")\n",
        "print(\"------\")\n",
        "print(f\"Loss : {loss_test:.3f}\")\n",
        "print(f\"Accuracy : {accuracy_test*100.:.3f}\")"
      ],
      "execution_count": null,
      "outputs": [
        {
          "output_type": "stream",
          "text": [
            "\n",
            "\n",
            "  0%|          | 0/75 [00:00<?, ?it/s]\u001b[A\u001b[A"
          ],
          "name": "stderr"
        },
        {
          "output_type": "stream",
          "text": [
            "nan\n",
            "Epoch  0,                   Train: loss=0.023, accuracy=9.9%,                   Valid: loss=0.023, accuracy=9.8%\n"
          ],
          "name": "stdout"
        },
        {
          "output_type": "stream",
          "text": [
            "/usr/local/lib/python3.7/dist-packages/ipykernel_launcher.py:47: RuntimeWarning: invalid value encountered in double_scalars\n",
            "\n",
            "\n",
            "  1%|▏         | 1/75 [00:21<26:13, 21.27s/it]\u001b[A\u001b[A"
          ],
          "name": "stderr"
        },
        {
          "output_type": "stream",
          "text": [
            "2.3026041830027544\n",
            "Epoch  1,                   Train: loss=0.023, accuracy=11.2%,                   Valid: loss=0.023, accuracy=11.2%\n"
          ],
          "name": "stdout"
        },
        {
          "output_type": "stream",
          "text": [
            "\n",
            "\n",
            "  3%|▎         | 2/75 [01:32<44:11, 36.32s/it]\u001b[A\u001b[A"
          ],
          "name": "stderr"
        },
        {
          "output_type": "stream",
          "text": [
            "2.3006369083016005\n",
            "Epoch  2,                   Train: loss=0.023, accuracy=11.2%,                   Valid: loss=0.023, accuracy=11.2%\n"
          ],
          "name": "stdout"
        },
        {
          "output_type": "stream",
          "text": [
            "\n",
            "\n",
            "  4%|▍         | 3/75 [02:44<56:13, 46.86s/it]\u001b[A\u001b[A"
          ],
          "name": "stderr"
        },
        {
          "output_type": "stream",
          "text": [
            "2.2998143836303995\n",
            "Epoch  3,                   Train: loss=0.023, accuracy=11.2%,                   Valid: loss=0.023, accuracy=11.2%\n"
          ],
          "name": "stdout"
        },
        {
          "output_type": "stream",
          "text": [
            "\n",
            "\n",
            "  5%|▌         | 4/75 [03:55<1:04:11, 54.25s/it]\u001b[A\u001b[A"
          ],
          "name": "stderr"
        },
        {
          "output_type": "stream",
          "text": [
            "2.299184646871355\n",
            "Epoch  4,                   Train: loss=0.023, accuracy=11.2%,                   Valid: loss=0.023, accuracy=11.2%\n"
          ],
          "name": "stdout"
        },
        {
          "output_type": "stream",
          "text": [
            "\n",
            "\n",
            "  7%|▋         | 5/75 [05:07<1:09:20, 59.43s/it]\u001b[A\u001b[A"
          ],
          "name": "stderr"
        },
        {
          "output_type": "stream",
          "text": [
            "2.2985323702847515\n",
            "Epoch  5,                   Train: loss=0.023, accuracy=11.2%,                   Valid: loss=0.023, accuracy=11.2%\n"
          ],
          "name": "stdout"
        },
        {
          "output_type": "stream",
          "text": [
            "\n",
            "\n",
            "  8%|▊         | 6/75 [06:18<1:12:25, 62.97s/it]\u001b[A\u001b[A"
          ],
          "name": "stderr"
        },
        {
          "output_type": "stream",
          "text": [
            "2.2977689782778423\n",
            "Epoch  6,                   Train: loss=0.023, accuracy=11.2%,                   Valid: loss=0.023, accuracy=11.2%\n"
          ],
          "name": "stdout"
        },
        {
          "output_type": "stream",
          "text": [
            "\n",
            "\n",
            "  9%|▉         | 7/75 [07:29<1:14:14, 65.51s/it]\u001b[A\u001b[A"
          ],
          "name": "stderr"
        },
        {
          "output_type": "stream",
          "text": [
            "2.2968414655438174\n",
            "Epoch  7,                   Train: loss=0.023, accuracy=11.2%,                   Valid: loss=0.023, accuracy=11.2%\n"
          ],
          "name": "stdout"
        },
        {
          "output_type": "stream",
          "text": [
            "\n",
            "\n",
            " 11%|█         | 8/75 [08:41<1:15:03, 67.21s/it]\u001b[A\u001b[A"
          ],
          "name": "stderr"
        },
        {
          "output_type": "stream",
          "text": [
            "2.29566441377004\n",
            "Epoch  8,                   Train: loss=0.023, accuracy=11.4%,                   Valid: loss=0.023, accuracy=11.3%\n"
          ],
          "name": "stdout"
        },
        {
          "output_type": "stream",
          "text": [
            "\n",
            "\n",
            " 12%|█▏        | 9/75 [09:52<1:15:14, 68.41s/it]\u001b[A\u001b[A"
          ],
          "name": "stderr"
        },
        {
          "output_type": "stream",
          "text": [
            "2.2940936145959077\n",
            "Epoch  9,                   Train: loss=0.023, accuracy=11.7%,                   Valid: loss=0.023, accuracy=11.6%\n"
          ],
          "name": "stdout"
        },
        {
          "output_type": "stream",
          "text": [
            "\n",
            "\n",
            " 13%|█▎        | 10/75 [11:03<1:14:58, 69.20s/it]\u001b[A\u001b[A"
          ],
          "name": "stderr"
        },
        {
          "output_type": "stream",
          "text": [
            "2.2918872541851467\n",
            "Epoch 10,                   Train: loss=0.023, accuracy=13.3%,                   Valid: loss=0.023, accuracy=12.9%\n"
          ],
          "name": "stdout"
        },
        {
          "output_type": "stream",
          "text": [
            "\n",
            "\n",
            " 15%|█▍        | 11/75 [12:14<1:14:28, 69.82s/it]\u001b[A\u001b[A"
          ],
          "name": "stderr"
        },
        {
          "output_type": "stream",
          "text": [
            "2.2885335586689135\n",
            "Epoch 11,                   Train: loss=0.023, accuracy=15.1%,                   Valid: loss=0.023, accuracy=15.0%\n"
          ],
          "name": "stdout"
        },
        {
          "output_type": "stream",
          "text": [
            "\n",
            "\n",
            " 16%|█▌        | 12/75 [13:25<1:13:45, 70.24s/it]\u001b[A\u001b[A"
          ],
          "name": "stderr"
        },
        {
          "output_type": "stream",
          "text": [
            "2.282716788627483\n",
            "Epoch 12,                   Train: loss=0.023, accuracy=19.2%,                   Valid: loss=0.023, accuracy=18.9%\n"
          ],
          "name": "stdout"
        },
        {
          "output_type": "stream",
          "text": [
            "\n",
            "\n",
            " 17%|█▋        | 13/75 [14:37<1:12:57, 70.60s/it]\u001b[A\u001b[A"
          ],
          "name": "stderr"
        },
        {
          "output_type": "stream",
          "text": [
            "2.269751122262743\n",
            "Epoch 13,                   Train: loss=0.023, accuracy=21.4%,                   Valid: loss=0.023, accuracy=20.6%\n"
          ],
          "name": "stdout"
        },
        {
          "output_type": "stream",
          "text": [
            "\n",
            "\n",
            " 19%|█▊        | 14/75 [15:48<1:12:02, 70.86s/it]\u001b[A\u001b[A"
          ],
          "name": "stderr"
        },
        {
          "output_type": "stream",
          "text": [
            "2.2182389387377985\n",
            "Epoch 14,                   Train: loss=0.022, accuracy=22.7%,                   Valid: loss=0.022, accuracy=22.9%\n"
          ],
          "name": "stdout"
        },
        {
          "output_type": "stream",
          "text": [
            "\n",
            "\n",
            " 20%|██        | 15/75 [17:00<1:11:01, 71.02s/it]\u001b[A\u001b[A"
          ],
          "name": "stderr"
        },
        {
          "output_type": "stream",
          "text": [
            "2.088659968861827\n",
            "Epoch 15,                   Train: loss=0.020, accuracy=23.8%,                   Valid: loss=0.020, accuracy=24.2%\n"
          ],
          "name": "stdout"
        },
        {
          "output_type": "stream",
          "text": [
            "\n",
            "\n",
            " 21%|██▏       | 16/75 [18:11<1:09:57, 71.15s/it]\u001b[A\u001b[A"
          ],
          "name": "stderr"
        },
        {
          "output_type": "stream",
          "text": [
            "1.9961999890980897\n",
            "Epoch 16,                   Train: loss=0.020, accuracy=27.7%,                   Valid: loss=0.020, accuracy=27.6%\n"
          ],
          "name": "stdout"
        },
        {
          "output_type": "stream",
          "text": [
            "\n",
            "\n",
            " 23%|██▎       | 17/75 [19:23<1:08:55, 71.30s/it]\u001b[A\u001b[A"
          ],
          "name": "stderr"
        },
        {
          "output_type": "stream",
          "text": [
            "1.8900966637664371\n",
            "Epoch 17,                   Train: loss=0.018, accuracy=34.7%,                   Valid: loss=0.018, accuracy=34.2%\n"
          ],
          "name": "stdout"
        },
        {
          "output_type": "stream",
          "text": [
            "\n",
            "\n",
            " 24%|██▍       | 18/75 [20:34<1:07:43, 71.29s/it]\u001b[A\u001b[A"
          ],
          "name": "stderr"
        },
        {
          "output_type": "stream",
          "text": [
            "1.7073696399176563\n",
            "Epoch 18,                   Train: loss=0.016, accuracy=46.9%,                   Valid: loss=0.016, accuracy=47.6%\n"
          ],
          "name": "stdout"
        },
        {
          "output_type": "stream",
          "text": [
            "\n",
            "\n",
            " 25%|██▌       | 19/75 [21:46<1:06:37, 71.38s/it]\u001b[A\u001b[A"
          ],
          "name": "stderr"
        },
        {
          "output_type": "stream",
          "text": [
            "1.4041833619276682\n",
            "Epoch 19,                   Train: loss=0.012, accuracy=57.5%,                   Valid: loss=0.013, accuracy=57.9%\n"
          ],
          "name": "stdout"
        },
        {
          "output_type": "stream",
          "text": [
            "\n",
            "\n",
            " 27%|██▋       | 20/75 [22:57<1:05:22, 71.32s/it]\u001b[A\u001b[A"
          ],
          "name": "stderr"
        },
        {
          "output_type": "stream",
          "text": [
            "1.1323225443009977\n",
            "Epoch 20,                   Train: loss=0.010, accuracy=67.1%,                   Valid: loss=0.010, accuracy=67.3%\n"
          ],
          "name": "stdout"
        },
        {
          "output_type": "stream",
          "text": [
            "\n",
            "\n",
            " 28%|██▊       | 21/75 [24:08<1:04:12, 71.34s/it]\u001b[A\u001b[A"
          ],
          "name": "stderr"
        },
        {
          "output_type": "stream",
          "text": [
            "0.9364046387098454\n",
            "Epoch 21,                   Train: loss=0.009, accuracy=71.4%,                   Valid: loss=0.008, accuracy=71.7%\n"
          ],
          "name": "stdout"
        },
        {
          "output_type": "stream",
          "text": [
            "\n",
            "\n",
            " 29%|██▉       | 22/75 [25:19<1:03:02, 71.36s/it]\u001b[A\u001b[A"
          ],
          "name": "stderr"
        },
        {
          "output_type": "stream",
          "text": [
            "0.8089979362708551\n",
            "Epoch 22,                   Train: loss=0.007, accuracy=75.2%,                   Valid: loss=0.007, accuracy=75.7%\n"
          ],
          "name": "stdout"
        },
        {
          "output_type": "stream",
          "text": [
            "\n",
            "\n",
            " 31%|███       | 23/75 [26:31<1:01:51, 71.38s/it]\u001b[A\u001b[A"
          ],
          "name": "stderr"
        },
        {
          "output_type": "stream",
          "text": [
            "0.6941353581017918\n",
            "Epoch 23,                   Train: loss=0.006, accuracy=79.8%,                   Valid: loss=0.006, accuracy=80.1%\n"
          ],
          "name": "stdout"
        },
        {
          "output_type": "stream",
          "text": [
            "\n",
            "\n",
            " 32%|███▏      | 24/75 [27:42<1:00:40, 71.38s/it]\u001b[A\u001b[A"
          ],
          "name": "stderr"
        },
        {
          "output_type": "stream",
          "text": [
            "0.5931266840961245\n",
            "Epoch 24,                   Train: loss=0.005, accuracy=83.0%,                   Valid: loss=0.005, accuracy=82.9%\n"
          ],
          "name": "stdout"
        },
        {
          "output_type": "stream",
          "text": [
            "\n",
            "\n",
            " 33%|███▎      | 25/75 [28:54<59:29, 71.40s/it]  \u001b[A\u001b[A"
          ],
          "name": "stderr"
        },
        {
          "output_type": "stream",
          "text": [
            "0.5044962667204715\n",
            "Epoch 25,                   Train: loss=0.004, accuracy=86.5%,                   Valid: loss=0.004, accuracy=86.7%\n"
          ],
          "name": "stdout"
        },
        {
          "output_type": "stream",
          "text": [
            "\n",
            "\n",
            " 35%|███▍      | 26/75 [30:05<58:16, 71.36s/it]\u001b[A\u001b[A"
          ],
          "name": "stderr"
        },
        {
          "output_type": "stream",
          "text": [
            "0.4312203925792818\n",
            "Epoch 26,                   Train: loss=0.004, accuracy=87.8%,                   Valid: loss=0.004, accuracy=87.9%\n"
          ],
          "name": "stdout"
        },
        {
          "output_type": "stream",
          "text": [
            "\n",
            "\n",
            " 36%|███▌      | 27/75 [31:16<57:05, 71.37s/it]\u001b[A\u001b[A"
          ],
          "name": "stderr"
        },
        {
          "output_type": "stream",
          "text": [
            "0.3702185807404695\n",
            "Epoch 27,                   Train: loss=0.003, accuracy=90.3%,                   Valid: loss=0.003, accuracy=90.3%\n"
          ],
          "name": "stdout"
        },
        {
          "output_type": "stream",
          "text": [
            "\n",
            "\n",
            " 37%|███▋      | 28/75 [32:28<55:53, 71.36s/it]\u001b[A\u001b[A"
          ],
          "name": "stderr"
        },
        {
          "output_type": "stream",
          "text": [
            "0.3203677938216262\n",
            "Epoch 28,                   Train: loss=0.003, accuracy=91.6%,                   Valid: loss=0.003, accuracy=91.7%\n"
          ],
          "name": "stdout"
        },
        {
          "output_type": "stream",
          "text": [
            "\n",
            "\n",
            " 39%|███▊      | 29/75 [33:39<54:44, 71.40s/it]\u001b[A\u001b[A"
          ],
          "name": "stderr"
        },
        {
          "output_type": "stream",
          "text": [
            "0.2854715654971423\n",
            "Epoch 29,                   Train: loss=0.003, accuracy=91.2%,                   Valid: loss=0.003, accuracy=91.1%\n"
          ],
          "name": "stdout"
        },
        {
          "output_type": "stream",
          "text": [
            "\n",
            "\n",
            " 40%|████      | 30/75 [34:51<53:34, 71.43s/it]\u001b[A\u001b[A"
          ],
          "name": "stderr"
        },
        {
          "output_type": "stream",
          "text": [
            "0.2567178024461976\n",
            "Epoch 30,                   Train: loss=0.003, accuracy=91.0%,                   Valid: loss=0.003, accuracy=91.1%\n"
          ],
          "name": "stdout"
        },
        {
          "output_type": "stream",
          "text": [
            "\n",
            "\n",
            " 41%|████▏     | 31/75 [36:03<52:28, 71.55s/it]\u001b[A\u001b[A"
          ],
          "name": "stderr"
        },
        {
          "output_type": "stream",
          "text": [
            "0.23547287168050254\n",
            "Epoch 31,                   Train: loss=0.002, accuracy=93.9%,                   Valid: loss=0.002, accuracy=94.2%\n"
          ],
          "name": "stdout"
        },
        {
          "output_type": "stream",
          "text": [
            "\n",
            "\n",
            " 43%|████▎     | 32/75 [37:14<51:17, 71.58s/it]\u001b[A\u001b[A"
          ],
          "name": "stderr"
        },
        {
          "output_type": "stream",
          "text": [
            "0.21383833616144127\n",
            "Epoch 32,                   Train: loss=0.002, accuracy=94.3%,                   Valid: loss=0.002, accuracy=94.5%\n"
          ],
          "name": "stdout"
        },
        {
          "output_type": "stream",
          "text": [
            "\n",
            "\n",
            " 44%|████▍     | 33/75 [38:26<50:05, 71.57s/it]\u001b[A\u001b[A"
          ],
          "name": "stderr"
        },
        {
          "output_type": "stream",
          "text": [
            "0.20079470018821735\n",
            "Epoch 33,                   Train: loss=0.002, accuracy=94.4%,                   Valid: loss=0.002, accuracy=94.5%\n"
          ],
          "name": "stdout"
        },
        {
          "output_type": "stream",
          "text": [
            "\n",
            "\n",
            " 45%|████▌     | 34/75 [39:37<48:55, 71.61s/it]\u001b[A\u001b[A"
          ],
          "name": "stderr"
        },
        {
          "output_type": "stream",
          "text": [
            "0.18556251507942323\n",
            "Epoch 34,                   Train: loss=0.002, accuracy=95.3%,                   Valid: loss=0.002, accuracy=95.2%\n"
          ],
          "name": "stdout"
        },
        {
          "output_type": "stream",
          "text": [
            "\n",
            "\n",
            " 47%|████▋     | 35/75 [40:49<47:45, 71.65s/it]\u001b[A\u001b[A"
          ],
          "name": "stderr"
        },
        {
          "output_type": "stream",
          "text": [
            "0.17702606610815835\n",
            "Epoch 35,                   Train: loss=0.002, accuracy=94.8%,                   Valid: loss=0.002, accuracy=94.9%\n"
          ],
          "name": "stdout"
        },
        {
          "output_type": "stream",
          "text": [
            "\n",
            "\n",
            " 48%|████▊     | 36/75 [42:01<46:31, 71.58s/it]\u001b[A\u001b[A"
          ],
          "name": "stderr"
        },
        {
          "output_type": "stream",
          "text": [
            "0.16481553151927614\n",
            "Epoch 36,                   Train: loss=0.002, accuracy=95.2%,                   Valid: loss=0.002, accuracy=94.9%\n"
          ],
          "name": "stdout"
        },
        {
          "output_type": "stream",
          "text": [
            "\n",
            "\n",
            " 49%|████▉     | 37/75 [43:12<45:18, 71.53s/it]\u001b[A\u001b[A"
          ],
          "name": "stderr"
        },
        {
          "output_type": "stream",
          "text": [
            "0.1584383658029967\n",
            "Epoch 37,                   Train: loss=0.001, accuracy=95.8%,                   Valid: loss=0.001, accuracy=95.8%\n"
          ],
          "name": "stdout"
        },
        {
          "output_type": "stream",
          "text": [
            "\n",
            "\n",
            " 51%|█████     | 38/75 [44:24<44:08, 71.57s/it]\u001b[A\u001b[A"
          ],
          "name": "stderr"
        },
        {
          "output_type": "stream",
          "text": [
            "0.1508305411061479\n",
            "Epoch 38,                   Train: loss=0.001, accuracy=96.1%,                   Valid: loss=0.001, accuracy=96.2%\n"
          ],
          "name": "stdout"
        },
        {
          "output_type": "stream",
          "text": [
            "\n",
            "\n",
            " 52%|█████▏    | 39/75 [45:35<42:56, 71.58s/it]\u001b[A\u001b[A"
          ],
          "name": "stderr"
        },
        {
          "output_type": "stream",
          "text": [
            "0.1439744372576199\n",
            "Epoch 39,                   Train: loss=0.001, accuracy=96.1%,                   Valid: loss=0.001, accuracy=95.8%\n"
          ],
          "name": "stdout"
        },
        {
          "output_type": "stream",
          "text": [
            "\n",
            "\n",
            " 53%|█████▎    | 40/75 [46:47<41:44, 71.57s/it]\u001b[A\u001b[A"
          ],
          "name": "stderr"
        },
        {
          "output_type": "stream",
          "text": [
            "0.13833069073174287\n",
            "Epoch 40,                   Train: loss=0.001, accuracy=96.5%,                   Valid: loss=0.001, accuracy=96.5%\n"
          ],
          "name": "stdout"
        },
        {
          "output_type": "stream",
          "text": [
            "\n",
            "\n",
            " 55%|█████▍    | 41/75 [47:58<40:32, 71.54s/it]\u001b[A\u001b[A"
          ],
          "name": "stderr"
        },
        {
          "output_type": "stream",
          "text": [
            "0.1343814954161644\n",
            "Epoch 41,                   Train: loss=0.001, accuracy=96.2%,                   Valid: loss=0.001, accuracy=95.9%\n"
          ],
          "name": "stdout"
        },
        {
          "output_type": "stream",
          "text": [
            "\n",
            "\n",
            " 56%|█████▌    | 42/75 [49:10<39:24, 71.66s/it]\u001b[A\u001b[A"
          ],
          "name": "stderr"
        },
        {
          "output_type": "stream",
          "text": [
            "0.128615342773911\n",
            "Epoch 42,                   Train: loss=0.001, accuracy=96.6%,                   Valid: loss=0.001, accuracy=96.5%\n"
          ],
          "name": "stdout"
        },
        {
          "output_type": "stream",
          "text": [
            "\n",
            "\n",
            " 57%|█████▋    | 43/75 [50:22<38:14, 71.71s/it]\u001b[A\u001b[A"
          ],
          "name": "stderr"
        },
        {
          "output_type": "stream",
          "text": [
            "0.12334465715965187\n",
            "Epoch 43,                   Train: loss=0.001, accuracy=96.3%,                   Valid: loss=0.001, accuracy=96.4%\n"
          ],
          "name": "stdout"
        },
        {
          "output_type": "stream",
          "text": [
            "\n",
            "\n",
            " 59%|█████▊    | 44/75 [51:33<37:00, 71.63s/it]\u001b[A\u001b[A"
          ],
          "name": "stderr"
        },
        {
          "output_type": "stream",
          "text": [
            "0.1215626695331324\n",
            "Epoch 44,                   Train: loss=0.001, accuracy=96.6%,                   Valid: loss=0.001, accuracy=96.5%\n"
          ],
          "name": "stdout"
        },
        {
          "output_type": "stream",
          "text": [
            "\n",
            "\n",
            " 60%|██████    | 45/75 [52:45<35:49, 71.65s/it]\u001b[A\u001b[A"
          ],
          "name": "stderr"
        },
        {
          "output_type": "stream",
          "text": [
            "0.11749885856967282\n",
            "Epoch 45,                   Train: loss=0.001, accuracy=96.6%,                   Valid: loss=0.001, accuracy=96.3%\n"
          ],
          "name": "stdout"
        },
        {
          "output_type": "stream",
          "text": [
            "\n",
            "\n",
            " 61%|██████▏   | 46/75 [53:57<34:37, 71.64s/it]\u001b[A\u001b[A"
          ],
          "name": "stderr"
        },
        {
          "output_type": "stream",
          "text": [
            "0.11339066373184323\n",
            "Epoch 46,                   Train: loss=0.001, accuracy=97.1%,                   Valid: loss=0.001, accuracy=96.6%\n"
          ],
          "name": "stdout"
        },
        {
          "output_type": "stream",
          "text": [
            "\n",
            "\n",
            " 63%|██████▎   | 47/75 [55:08<33:25, 71.64s/it]\u001b[A\u001b[A"
          ],
          "name": "stderr"
        },
        {
          "output_type": "stream",
          "text": [
            "0.10984891300193138\n",
            "Epoch 47,                   Train: loss=0.001, accuracy=96.6%,                   Valid: loss=0.001, accuracy=96.5%\n"
          ],
          "name": "stdout"
        },
        {
          "output_type": "stream",
          "text": [
            "\n",
            "\n",
            " 64%|██████▍   | 48/75 [56:20<32:14, 71.64s/it]\u001b[A\u001b[A"
          ],
          "name": "stderr"
        },
        {
          "output_type": "stream",
          "text": [
            "0.10834591681551602\n",
            "Epoch 48,                   Train: loss=0.001, accuracy=97.2%,                   Valid: loss=0.001, accuracy=96.8%\n"
          ],
          "name": "stdout"
        },
        {
          "output_type": "stream",
          "text": [
            "\n",
            "\n",
            " 65%|██████▌   | 49/75 [57:32<31:01, 71.59s/it]\u001b[A\u001b[A"
          ],
          "name": "stderr"
        },
        {
          "output_type": "stream",
          "text": [
            "0.10454194096296474\n",
            "Epoch 49,                   Train: loss=0.001, accuracy=97.1%,                   Valid: loss=0.001, accuracy=96.7%\n"
          ],
          "name": "stdout"
        },
        {
          "output_type": "stream",
          "text": [
            "\n",
            "\n",
            " 67%|██████▋   | 50/75 [58:43<29:48, 71.54s/it]\u001b[A\u001b[A"
          ],
          "name": "stderr"
        },
        {
          "output_type": "stream",
          "text": [
            "0.10227692525971818\n",
            "Epoch 50,                   Train: loss=0.001, accuracy=96.4%,                   Valid: loss=0.001, accuracy=96.1%\n"
          ],
          "name": "stdout"
        },
        {
          "output_type": "stream",
          "text": [
            "\n",
            "\n",
            " 68%|██████▊   | 51/75 [59:54<28:35, 71.49s/it]\u001b[A\u001b[A"
          ],
          "name": "stderr"
        },
        {
          "output_type": "stream",
          "text": [
            "0.10098916066775995\n",
            "Epoch 51,                   Train: loss=0.001, accuracy=97.2%,                   Valid: loss=0.001, accuracy=96.9%\n"
          ],
          "name": "stdout"
        },
        {
          "output_type": "stream",
          "text": [
            "\n",
            "\n",
            " 69%|██████▉   | 52/75 [1:01:06<27:25, 71.54s/it]\u001b[A\u001b[A"
          ],
          "name": "stderr"
        },
        {
          "output_type": "stream",
          "text": [
            "0.09681636268893877\n",
            "Epoch 52,                   Train: loss=0.001, accuracy=97.3%,                   Valid: loss=0.001, accuracy=97.0%\n"
          ],
          "name": "stdout"
        },
        {
          "output_type": "stream",
          "text": [
            "\n",
            "\n",
            " 71%|███████   | 53/75 [1:02:18<26:15, 71.59s/it]\u001b[A\u001b[A"
          ],
          "name": "stderr"
        },
        {
          "output_type": "stream",
          "text": [
            "0.09346465915786448\n",
            "Epoch 53,                   Train: loss=0.001, accuracy=96.7%,                   Valid: loss=0.001, accuracy=96.3%\n"
          ],
          "name": "stdout"
        },
        {
          "output_type": "stream",
          "text": [
            "\n",
            "\n",
            " 72%|███████▏  | 54/75 [1:03:29<25:03, 71.61s/it]\u001b[A\u001b[A"
          ],
          "name": "stderr"
        },
        {
          "output_type": "stream",
          "text": [
            "0.091646021499333\n",
            "Epoch 54,                   Train: loss=0.001, accuracy=97.5%,                   Valid: loss=0.001, accuracy=97.1%\n"
          ],
          "name": "stdout"
        },
        {
          "output_type": "stream",
          "text": [
            "\n",
            "\n",
            " 73%|███████▎  | 55/75 [1:04:41<23:52, 71.64s/it]\u001b[A\u001b[A"
          ],
          "name": "stderr"
        },
        {
          "output_type": "stream",
          "text": [
            "0.0907380827995776\n",
            "Epoch 55,                   Train: loss=0.001, accuracy=97.4%,                   Valid: loss=0.001, accuracy=97.1%\n"
          ],
          "name": "stdout"
        },
        {
          "output_type": "stream",
          "text": [
            "\n",
            "\n",
            " 75%|███████▍  | 56/75 [1:05:53<22:43, 71.74s/it]\u001b[A\u001b[A"
          ],
          "name": "stderr"
        },
        {
          "output_type": "stream",
          "text": [
            "0.08796591060408564\n",
            "Epoch 56,                   Train: loss=0.001, accuracy=97.6%,                   Valid: loss=0.001, accuracy=97.2%\n"
          ],
          "name": "stdout"
        },
        {
          "output_type": "stream",
          "text": [
            "\n",
            "\n",
            " 76%|███████▌  | 57/75 [1:07:05<21:31, 71.73s/it]\u001b[A\u001b[A"
          ],
          "name": "stderr"
        },
        {
          "output_type": "stream",
          "text": [
            "0.08737409401478038\n",
            "Epoch 57,                   Train: loss=0.001, accuracy=97.3%,                   Valid: loss=0.001, accuracy=96.9%\n"
          ],
          "name": "stdout"
        },
        {
          "output_type": "stream",
          "text": [
            "\n",
            "\n",
            " 77%|███████▋  | 58/75 [1:08:17<20:19, 71.73s/it]\u001b[A\u001b[A"
          ],
          "name": "stderr"
        },
        {
          "output_type": "stream",
          "text": [
            "0.08417723130572725\n",
            "Epoch 58,                   Train: loss=0.001, accuracy=97.7%,                   Valid: loss=0.001, accuracy=97.4%\n"
          ],
          "name": "stdout"
        },
        {
          "output_type": "stream",
          "text": [
            "\n",
            "\n",
            " 79%|███████▊  | 59/75 [1:09:28<19:07, 71.71s/it]\u001b[A\u001b[A"
          ],
          "name": "stderr"
        },
        {
          "output_type": "stream",
          "text": [
            "0.08499338776218118\n",
            "Epoch 59,                   Train: loss=0.001, accuracy=97.7%,                   Valid: loss=0.001, accuracy=97.4%\n"
          ],
          "name": "stdout"
        },
        {
          "output_type": "stream",
          "text": [
            "\n",
            "\n",
            " 80%|████████  | 60/75 [1:10:40<17:55, 71.67s/it]\u001b[A\u001b[A"
          ],
          "name": "stderr"
        },
        {
          "output_type": "stream",
          "text": [
            "0.08161166708364531\n",
            "Epoch 60,                   Train: loss=0.001, accuracy=97.7%,                   Valid: loss=0.001, accuracy=97.2%\n"
          ],
          "name": "stdout"
        },
        {
          "output_type": "stream",
          "text": [
            "\n",
            "\n",
            " 81%|████████▏ | 61/75 [1:11:52<16:44, 71.72s/it]\u001b[A\u001b[A"
          ],
          "name": "stderr"
        },
        {
          "output_type": "stream",
          "text": [
            "0.08066231056840883\n",
            "Epoch 61,                   Train: loss=0.001, accuracy=97.8%,                   Valid: loss=0.001, accuracy=97.4%\n"
          ],
          "name": "stdout"
        },
        {
          "output_type": "stream",
          "text": [
            "\n",
            "\n",
            " 83%|████████▎ | 62/75 [1:13:03<15:31, 71.63s/it]\u001b[A\u001b[A"
          ],
          "name": "stderr"
        },
        {
          "output_type": "stream",
          "text": [
            "0.07766661734613417\n",
            "Epoch 62,                   Train: loss=0.001, accuracy=97.8%,                   Valid: loss=0.001, accuracy=97.3%\n"
          ],
          "name": "stdout"
        },
        {
          "output_type": "stream",
          "text": [
            "\n",
            "\n",
            " 84%|████████▍ | 63/75 [1:14:15<14:19, 71.64s/it]\u001b[A\u001b[A"
          ],
          "name": "stderr"
        },
        {
          "output_type": "stream",
          "text": [
            "0.07726291035715904\n",
            "Epoch 63,                   Train: loss=0.001, accuracy=96.6%,                   Valid: loss=0.001, accuracy=96.1%\n"
          ],
          "name": "stdout"
        },
        {
          "output_type": "stream",
          "text": [
            "\n",
            "\n",
            " 85%|████████▌ | 64/75 [1:15:26<13:07, 71.61s/it]\u001b[A\u001b[A"
          ],
          "name": "stderr"
        },
        {
          "output_type": "stream",
          "text": [
            "0.07596886720232389\n",
            "Epoch 64,                   Train: loss=0.001, accuracy=98.1%,                   Valid: loss=0.001, accuracy=97.7%\n"
          ],
          "name": "stdout"
        },
        {
          "output_type": "stream",
          "text": [
            "\n",
            "\n",
            " 87%|████████▋ | 65/75 [1:16:38<11:56, 71.63s/it]\u001b[A\u001b[A"
          ],
          "name": "stderr"
        },
        {
          "output_type": "stream",
          "text": [
            "0.07448269722603813\n",
            "Epoch 65,                   Train: loss=0.001, accuracy=97.8%,                   Valid: loss=0.001, accuracy=97.4%\n"
          ],
          "name": "stdout"
        },
        {
          "output_type": "stream",
          "text": [
            "\n",
            "\n",
            " 88%|████████▊ | 66/75 [1:17:50<10:44, 71.67s/it]\u001b[A\u001b[A"
          ],
          "name": "stderr"
        },
        {
          "output_type": "stream",
          "text": [
            "0.07269942926035987\n",
            "Epoch 66,                   Train: loss=0.001, accuracy=97.8%,                   Valid: loss=0.001, accuracy=97.2%\n"
          ],
          "name": "stdout"
        },
        {
          "output_type": "stream",
          "text": [
            "\n",
            "\n",
            " 89%|████████▉ | 67/75 [1:19:01<09:33, 71.65s/it]\u001b[A\u001b[A"
          ],
          "name": "stderr"
        },
        {
          "output_type": "stream",
          "text": [
            "0.0717024099211105\n",
            "Epoch 67,                   Train: loss=0.001, accuracy=98.0%,                   Valid: loss=0.001, accuracy=97.5%\n"
          ],
          "name": "stdout"
        },
        {
          "output_type": "stream",
          "text": [
            "\n",
            "\n",
            " 91%|█████████ | 68/75 [1:20:13<08:21, 71.66s/it]\u001b[A\u001b[A"
          ],
          "name": "stderr"
        },
        {
          "output_type": "stream",
          "text": [
            "0.07048468590300117\n",
            "Epoch 68,                   Train: loss=0.001, accuracy=97.7%,                   Valid: loss=0.001, accuracy=97.3%\n"
          ],
          "name": "stdout"
        },
        {
          "output_type": "stream",
          "text": [
            "\n",
            "\n",
            " 92%|█████████▏| 69/75 [1:21:25<07:10, 71.77s/it]\u001b[A\u001b[A"
          ],
          "name": "stderr"
        },
        {
          "output_type": "stream",
          "text": [
            "0.06944921048427069\n",
            "Epoch 69,                   Train: loss=0.001, accuracy=98.0%,                   Valid: loss=0.001, accuracy=97.5%\n"
          ],
          "name": "stdout"
        },
        {
          "output_type": "stream",
          "text": [
            "\n",
            "\n",
            " 93%|█████████▎| 70/75 [1:22:37<05:58, 71.76s/it]\u001b[A\u001b[A"
          ],
          "name": "stderr"
        },
        {
          "output_type": "stream",
          "text": [
            "0.0668005450801165\n",
            "Epoch 70,                   Train: loss=0.001, accuracy=98.1%,                   Valid: loss=0.001, accuracy=97.6%\n"
          ],
          "name": "stdout"
        },
        {
          "output_type": "stream",
          "text": [
            "\n",
            "\n",
            " 95%|█████████▍| 71/75 [1:23:48<04:46, 71.72s/it]\u001b[A\u001b[A"
          ],
          "name": "stderr"
        },
        {
          "output_type": "stream",
          "text": [
            "0.0653224923716927\n",
            "Epoch 71,                   Train: loss=0.001, accuracy=98.1%,                   Valid: loss=0.001, accuracy=97.8%\n"
          ],
          "name": "stdout"
        },
        {
          "output_type": "stream",
          "text": [
            "\n",
            "\n",
            " 96%|█████████▌| 72/75 [1:25:00<03:35, 71.72s/it]\u001b[A\u001b[A"
          ],
          "name": "stderr"
        },
        {
          "output_type": "stream",
          "text": [
            "0.0650869732601913\n",
            "Epoch 72,                   Train: loss=0.001, accuracy=98.3%,                   Valid: loss=0.001, accuracy=97.7%\n"
          ],
          "name": "stdout"
        },
        {
          "output_type": "stream",
          "text": [
            "\n",
            "\n",
            " 97%|█████████▋| 73/75 [1:26:12<02:23, 71.83s/it]\u001b[A\u001b[A"
          ],
          "name": "stderr"
        },
        {
          "output_type": "stream",
          "text": [
            "0.06287659646908718\n",
            "Epoch 73,                   Train: loss=0.001, accuracy=98.2%,                   Valid: loss=0.001, accuracy=97.4%\n"
          ],
          "name": "stdout"
        },
        {
          "output_type": "stream",
          "text": [
            "\n",
            "\n",
            " 99%|█████████▊| 74/75 [1:27:24<01:11, 71.86s/it]\u001b[A\u001b[A"
          ],
          "name": "stderr"
        },
        {
          "output_type": "stream",
          "text": [
            "0.06317623344474231\n",
            "Epoch 74,                   Train: loss=0.001, accuracy=98.4%,                   Valid: loss=0.001, accuracy=97.9%\n"
          ],
          "name": "stdout"
        },
        {
          "output_type": "stream",
          "text": [
            "\n",
            "\n",
            "100%|██████████| 75/75 [1:28:36<00:00, 70.89s/it]"
          ],
          "name": "stderr"
        },
        {
          "output_type": "stream",
          "text": [
            "\n",
            " The total time for training in seconds is\n",
            "5316.485952615738\n",
            "Best validation accuracy = 97.850\n"
          ],
          "name": "stdout"
        },
        {
          "output_type": "stream",
          "text": [
            "\n"
          ],
          "name": "stderr"
        },
        {
          "output_type": "stream",
          "text": [
            "Confusion matrix, without normalization\n",
            "Evaluation of the best training model over test set\n",
            "------\n",
            "Loss : 0.001\n",
            "Accuracy : 97.940\n"
          ],
          "name": "stdout"
        },
        {
          "output_type": "display_data",
          "data": {
            "image/png": "[encoded data removed]",
            "text/plain": [
              "<Figure size 864x432 with 2 Axes>"
            ]
          },
          "metadata": {
            "tags": [],
            "needs_background": "light"
          }
        },
        {
          "output_type": "display_data",
          "data": {
            "image/png": "[encoded data removed]",
            "text/plain": [
              "<Figure size 432x288 with 2 Axes>"
            ]
          },
          "metadata": {
            "tags": [],
            "needs_background": "light"
          }
        }
      ]
    },
    {
      "cell_type": "code",
      "metadata": {
        "colab": {
          "base_uri": "https://localhost:8080/",
          "height": 400
        },
        "id": "-myGOfnDQ9WM",
        "outputId": "46d8097f-2b2e-47a0-9af1-29ae9dbba3f6"
      },
      "source": [
        "model = GRU(input_size, hidden_size, num_layers, num_classes)\n",
        "\n",
        "s(model, torch.zeros((1, 28, 28)))\n",
        "\n"
      ],
      "execution_count": null,
      "outputs": [
        {
          "output_type": "stream",
          "text": [
            "====================================================\n",
            "       Kernel Shape Output Shape   Params Mult-Adds\n",
            "Layer                                              \n",
            "0_gru             -  [1, 28, 64]  43.008k    42.24k\n",
            "1_relu            -      [1, 64]        -         -\n",
            "2_fc       [64, 10]      [1, 10]    650.0     640.0\n",
            "----------------------------------------------------\n",
            "                       Totals\n",
            "Total params          43.658k\n",
            "Trainable params      43.658k\n",
            "Non-trainable params      0.0\n",
            "Mult-Adds              42.88k\n",
            "====================================================\n"
          ],
          "name": "stdout"
        },
        {
          "output_type": "execute_result",
          "data": {
            "text/html": [
              "<div>\n",
              "<style scoped>\n",
              "    .dataframe tbody tr th:only-of-type {\n",
              "        vertical-align: middle;\n",
              "    }\n",
              "\n",
              "    .dataframe tbody tr th {\n",
              "        vertical-align: top;\n",
              "    }\n",
              "\n",
              "    .dataframe thead th {\n",
              "        text-align: right;\n",
              "    }\n",
              "</style>\n",
              "<table border=\"1\" class=\"dataframe\">\n",
              "  <thead>\n",
              "    <tr style=\"text-align: right;\">\n",
              "      <th></th>\n",
              "      <th>Kernel Shape</th>\n",
              "      <th>Output Shape</th>\n",
              "      <th>Params</th>\n",
              "      <th>Mult-Adds</th>\n",
              "    </tr>\n",
              "    <tr>\n",
              "      <th>Layer</th>\n",
              "      <th></th>\n",
              "      <th></th>\n",
              "      <th></th>\n",
              "      <th></th>\n",
              "    </tr>\n",
              "  </thead>\n",
              "  <tbody>\n",
              "    <tr>\n",
              "      <th>0_gru</th>\n",
              "      <td>-</td>\n",
              "      <td>[1, 28, 64]</td>\n",
              "      <td>43008.0</td>\n",
              "      <td>42240.0</td>\n",
              "    </tr>\n",
              "    <tr>\n",
              "      <th>1_relu</th>\n",
              "      <td>-</td>\n",
              "      <td>[1, 64]</td>\n",
              "      <td>NaN</td>\n",
              "      <td>NaN</td>\n",
              "    </tr>\n",
              "    <tr>\n",
              "      <th>2_fc</th>\n",
              "      <td>[64, 10]</td>\n",
              "      <td>[1, 10]</td>\n",
              "      <td>650.0</td>\n",
              "      <td>640.0</td>\n",
              "    </tr>\n",
              "  </tbody>\n",
              "</table>\n",
              "</div>"
            ],
            "text/plain": [
              "       Kernel Shape Output Shape   Params  Mult-Adds\n",
              "Layer                                               \n",
              "0_gru             -  [1, 28, 64]  43008.0    42240.0\n",
              "1_relu            -      [1, 64]      NaN        NaN\n",
              "2_fc       [64, 10]      [1, 10]    650.0      640.0"
            ]
          },
          "metadata": {
            "tags": []
          },
          "execution_count": 19
        }
      ]
    },
    {
      "cell_type": "code",
      "metadata": {
        "id": "T9uV9iG9ws_l",
        "colab": {
          "base_uri": "https://localhost:8080/",
          "height": 1000
        },
        "outputId": "1ac3bad1-b4bd-4317-fef6-140a793b493f"
      },
      "source": [
        "batch_size = 100 \n",
        "lr = 0.01 \n",
        "\n",
        "data_loader_train, data_loader_val, data_loader_test = get_fashion_mnist_dataloaders(val_percentage=0.1, batch_size=batch_size)\n",
        "\n",
        "model = GRU(input_size, hidden_size, num_layers, num_classes)\n",
        "best_model, best_val_accuracy, logger = train(model,lr=lr, nb_epochs=75,data_loader_train=data_loader_train, data_loader_val=data_loader_val)\n",
        "logger.plot_loss_and_accuracy()\n",
        "print(f\"Best validation accuracy = {best_val_accuracy*100:.3f}\")\n",
        "\n",
        "accuracy_test, loss_test, misclassified_samples = accuracy_and_loss_whole_dataset(data_loader_test, best_model, True)\n",
        "print(\"Evaluation of the best training model over test set\")\n",
        "print(\"------\")\n",
        "print(f\"Loss : {loss_test:.3f}\")\n",
        "print(f\"Accuracy : {accuracy_test*100.:.3f}\")"
      ],
      "execution_count": null,
      "outputs": [
        {
          "output_type": "stream",
          "text": [
            "\n",
            "\n",
            "  0%|          | 0/75 [00:00<?, ?it/s]\u001b[A\u001b[A"
          ],
          "name": "stderr"
        },
        {
          "output_type": "stream",
          "text": [
            "nan\n",
            "Epoch  0,                   Train: loss=0.023, accuracy=11.3%,                   Valid: loss=0.023, accuracy=10.9%\n"
          ],
          "name": "stdout"
        },
        {
          "output_type": "stream",
          "text": [
            "/usr/local/lib/python3.7/dist-packages/ipykernel_launcher.py:47: RuntimeWarning: invalid value encountered in double_scalars\n",
            "\n",
            "\n",
            "  1%|▏         | 1/75 [00:17<21:30, 17.44s/it]\u001b[A\u001b[A"
          ],
          "name": "stderr"
        },
        {
          "output_type": "stream",
          "text": [
            "2.299401169794577\n",
            "Epoch  1,                   Train: loss=0.023, accuracy=11.3%,                   Valid: loss=0.023, accuracy=10.9%\n"
          ],
          "name": "stdout"
        },
        {
          "output_type": "stream",
          "text": [
            "\n",
            "\n",
            "  3%|▎         | 2/75 [01:15<36:02, 29.63s/it]\u001b[A\u001b[A"
          ],
          "name": "stderr"
        },
        {
          "output_type": "stream",
          "text": [
            "2.2935313251283436\n",
            "Epoch  2,                   Train: loss=0.023, accuracy=11.5%,                   Valid: loss=0.023, accuracy=11.2%\n"
          ],
          "name": "stdout"
        },
        {
          "output_type": "stream",
          "text": [
            "\n",
            "\n",
            "  4%|▍         | 3/75 [02:13<45:49, 38.19s/it]\u001b[A\u001b[A"
          ],
          "name": "stderr"
        },
        {
          "output_type": "stream",
          "text": [
            "2.2865613328086005\n",
            "Epoch  3,                   Train: loss=0.023, accuracy=14.3%,                   Valid: loss=0.023, accuracy=14.0%\n"
          ],
          "name": "stdout"
        },
        {
          "output_type": "stream",
          "text": [
            "\n",
            "\n",
            "  5%|▌         | 4/75 [03:11<52:17, 44.19s/it]\u001b[A\u001b[A"
          ],
          "name": "stderr"
        },
        {
          "output_type": "stream",
          "text": [
            "2.2739043143060473\n",
            "Epoch  4,                   Train: loss=0.023, accuracy=20.5%,                   Valid: loss=0.023, accuracy=20.2%\n"
          ],
          "name": "stdout"
        },
        {
          "output_type": "stream",
          "text": [
            "\n",
            "\n",
            "  7%|▋         | 5/75 [04:10<56:27, 48.40s/it]\u001b[A\u001b[A"
          ],
          "name": "stderr"
        },
        {
          "output_type": "stream",
          "text": [
            "2.2446382173785455\n",
            "Epoch  5,                   Train: loss=0.022, accuracy=28.0%,                   Valid: loss=0.022, accuracy=28.0%\n"
          ],
          "name": "stdout"
        },
        {
          "output_type": "stream",
          "text": [
            "\n",
            "\n",
            "  8%|▊         | 6/75 [05:08<58:59, 51.30s/it]\u001b[A\u001b[A"
          ],
          "name": "stderr"
        },
        {
          "output_type": "stream",
          "text": [
            "2.1595878691584978\n",
            "Epoch  6,                   Train: loss=0.021, accuracy=29.0%,                   Valid: loss=0.021, accuracy=28.6%\n"
          ],
          "name": "stdout"
        },
        {
          "output_type": "stream",
          "text": [
            "\n",
            "\n",
            "  9%|▉         | 7/75 [06:06<1:00:27, 53.35s/it]\u001b[A\u001b[A"
          ],
          "name": "stderr"
        },
        {
          "output_type": "stream",
          "text": [
            "1.992656876201983\n",
            "Epoch  7,                   Train: loss=0.019, accuracy=33.1%,                   Valid: loss=0.019, accuracy=32.7%\n"
          ],
          "name": "stdout"
        },
        {
          "output_type": "stream",
          "text": [
            "\n",
            "\n",
            " 11%|█         | 8/75 [07:04<1:01:11, 54.80s/it]\u001b[A\u001b[A"
          ],
          "name": "stderr"
        },
        {
          "output_type": "stream",
          "text": [
            "1.8446223435578524\n",
            "Epoch  8,                   Train: loss=0.018, accuracy=39.1%,                   Valid: loss=0.018, accuracy=38.7%\n"
          ],
          "name": "stdout"
        },
        {
          "output_type": "stream",
          "text": [
            "\n",
            "\n",
            " 12%|█▏        | 9/75 [08:02<1:01:28, 55.89s/it]\u001b[A\u001b[A"
          ],
          "name": "stderr"
        },
        {
          "output_type": "stream",
          "text": [
            "1.6964031828774346\n",
            "Epoch  9,                   Train: loss=0.016, accuracy=45.8%,                   Valid: loss=0.016, accuracy=45.6%\n"
          ],
          "name": "stdout"
        },
        {
          "output_type": "stream",
          "text": [
            "\n",
            "\n",
            " 13%|█▎        | 10/75 [09:00<1:01:13, 56.52s/it]\u001b[A\u001b[A"
          ],
          "name": "stderr"
        },
        {
          "output_type": "stream",
          "text": [
            "1.5048822257253858\n",
            "Epoch 10,                   Train: loss=0.014, accuracy=54.3%,                   Valid: loss=0.014, accuracy=54.1%\n"
          ],
          "name": "stdout"
        },
        {
          "output_type": "stream",
          "text": [
            "\n",
            "\n",
            " 15%|█▍        | 11/75 [09:58<1:00:47, 56.99s/it]\u001b[A\u001b[A"
          ],
          "name": "stderr"
        },
        {
          "output_type": "stream",
          "text": [
            "1.2895190879150673\n",
            "Epoch 11,                   Train: loss=0.012, accuracy=59.8%,                   Valid: loss=0.012, accuracy=59.4%\n"
          ],
          "name": "stdout"
        },
        {
          "output_type": "stream",
          "text": [
            "\n",
            "\n",
            " 16%|█▌        | 12/75 [10:57<1:00:10, 57.31s/it]\u001b[A\u001b[A"
          ],
          "name": "stderr"
        },
        {
          "output_type": "stream",
          "text": [
            "1.1225553019179237\n",
            "Epoch 12,                   Train: loss=0.011, accuracy=63.8%,                   Valid: loss=0.011, accuracy=63.2%\n"
          ],
          "name": "stdout"
        },
        {
          "output_type": "stream",
          "text": [
            "\n",
            "\n",
            " 17%|█▋        | 13/75 [11:54<59:24, 57.48s/it]  \u001b[A\u001b[A"
          ],
          "name": "stderr"
        },
        {
          "output_type": "stream",
          "text": [
            "1.0193687417992838\n",
            "Epoch 13,                   Train: loss=0.010, accuracy=66.5%,                   Valid: loss=0.010, accuracy=65.0%\n"
          ],
          "name": "stdout"
        },
        {
          "output_type": "stream",
          "text": [
            "\n",
            "\n",
            " 19%|█▊        | 14/75 [12:52<58:34, 57.62s/it]\u001b[A\u001b[A"
          ],
          "name": "stderr"
        },
        {
          "output_type": "stream",
          "text": [
            "0.9524361826755382\n",
            "Epoch 14,                   Train: loss=0.009, accuracy=69.0%,                   Valid: loss=0.009, accuracy=67.5%\n"
          ],
          "name": "stdout"
        },
        {
          "output_type": "stream",
          "text": [
            "\n",
            "\n",
            " 20%|██        | 15/75 [13:50<57:44, 57.74s/it]\u001b[A\u001b[A"
          ],
          "name": "stderr"
        },
        {
          "output_type": "stream",
          "text": [
            "0.8970167406179287\n",
            "Epoch 15,                   Train: loss=0.009, accuracy=71.4%,                   Valid: loss=0.009, accuracy=70.1%\n"
          ],
          "name": "stdout"
        },
        {
          "output_type": "stream",
          "text": [
            "\n",
            "\n",
            " 21%|██▏       | 16/75 [14:49<56:54, 57.88s/it]\u001b[A\u001b[A"
          ],
          "name": "stderr"
        },
        {
          "output_type": "stream",
          "text": [
            "0.8436416895301254\n",
            "Epoch 16,                   Train: loss=0.008, accuracy=71.8%,                   Valid: loss=0.009, accuracy=70.5%\n"
          ],
          "name": "stdout"
        },
        {
          "output_type": "stream",
          "text": [
            "\n",
            "\n",
            " 23%|██▎       | 17/75 [15:47<55:59, 57.92s/it]\u001b[A\u001b[A"
          ],
          "name": "stderr"
        },
        {
          "output_type": "stream",
          "text": [
            "0.7929514738696593\n",
            "Epoch 17,                   Train: loss=0.008, accuracy=75.8%,                   Valid: loss=0.008, accuracy=74.2%\n"
          ],
          "name": "stdout"
        },
        {
          "output_type": "stream",
          "text": [
            "\n",
            "\n",
            " 24%|██▍       | 18/75 [16:45<55:01, 57.93s/it]\u001b[A\u001b[A"
          ],
          "name": "stderr"
        },
        {
          "output_type": "stream",
          "text": [
            "0.735486450460222\n",
            "Epoch 18,                   Train: loss=0.007, accuracy=78.0%,                   Valid: loss=0.007, accuracy=77.0%\n"
          ],
          "name": "stdout"
        },
        {
          "output_type": "stream",
          "text": [
            "\n",
            "\n",
            " 25%|██▌       | 19/75 [17:42<54:00, 57.87s/it]\u001b[A\u001b[A"
          ],
          "name": "stderr"
        },
        {
          "output_type": "stream",
          "text": [
            "0.6689419706110601\n",
            "Epoch 19,                   Train: loss=0.006, accuracy=81.4%,                   Valid: loss=0.006, accuracy=80.0%\n"
          ],
          "name": "stdout"
        },
        {
          "output_type": "stream",
          "text": [
            "\n",
            "\n",
            " 27%|██▋       | 20/75 [18:40<53:00, 57.82s/it]\u001b[A\u001b[A"
          ],
          "name": "stderr"
        },
        {
          "output_type": "stream",
          "text": [
            "0.588424191430763\n",
            "Epoch 20,                   Train: loss=0.005, accuracy=84.0%,                   Valid: loss=0.006, accuracy=82.8%\n"
          ],
          "name": "stdout"
        },
        {
          "output_type": "stream",
          "text": [
            "\n",
            "\n",
            " 28%|██▊       | 21/75 [19:38<52:02, 57.82s/it]\u001b[A\u001b[A"
          ],
          "name": "stderr"
        },
        {
          "output_type": "stream",
          "text": [
            "0.5228615881116302\n",
            "Epoch 21,                   Train: loss=0.005, accuracy=84.6%,                   Valid: loss=0.006, accuracy=83.5%\n"
          ],
          "name": "stdout"
        },
        {
          "output_type": "stream",
          "text": [
            "\n",
            "\n",
            " 29%|██▉       | 22/75 [20:36<51:07, 57.88s/it]\u001b[A\u001b[A"
          ],
          "name": "stderr"
        },
        {
          "output_type": "stream",
          "text": [
            "0.4699845905657168\n",
            "Epoch 22,                   Train: loss=0.004, accuracy=87.3%,                   Valid: loss=0.005, accuracy=86.5%\n"
          ],
          "name": "stdout"
        },
        {
          "output_type": "stream",
          "text": [
            "\n",
            "\n",
            " 31%|███       | 23/75 [21:34<50:07, 57.84s/it]\u001b[A\u001b[A"
          ],
          "name": "stderr"
        },
        {
          "output_type": "stream",
          "text": [
            "0.4240588267368299\n",
            "Epoch 23,                   Train: loss=0.004, accuracy=88.6%,                   Valid: loss=0.004, accuracy=87.8%\n"
          ],
          "name": "stdout"
        },
        {
          "output_type": "stream",
          "text": [
            "\n",
            "\n",
            " 32%|███▏      | 24/75 [22:31<49:09, 57.84s/it]\u001b[A\u001b[A"
          ],
          "name": "stderr"
        },
        {
          "output_type": "stream",
          "text": [
            "0.3836226967197877\n",
            "Epoch 24,                   Train: loss=0.004, accuracy=89.3%,                   Valid: loss=0.004, accuracy=88.4%\n"
          ],
          "name": "stdout"
        },
        {
          "output_type": "stream",
          "text": [
            "\n",
            "\n",
            " 33%|███▎      | 25/75 [23:29<48:10, 57.82s/it]\u001b[A\u001b[A"
          ],
          "name": "stderr"
        },
        {
          "output_type": "stream",
          "text": [
            "0.3530829047439275\n",
            "Epoch 25,                   Train: loss=0.003, accuracy=90.7%,                   Valid: loss=0.003, accuracy=90.0%\n"
          ],
          "name": "stdout"
        },
        {
          "output_type": "stream",
          "text": [
            "\n",
            "\n",
            " 35%|███▍      | 26/75 [24:27<47:14, 57.84s/it]\u001b[A\u001b[A"
          ],
          "name": "stderr"
        },
        {
          "output_type": "stream",
          "text": [
            "0.32740321816117673\n",
            "Epoch 26,                   Train: loss=0.003, accuracy=90.6%,                   Valid: loss=0.003, accuracy=89.9%\n"
          ],
          "name": "stdout"
        },
        {
          "output_type": "stream",
          "text": [
            "\n",
            "\n",
            " 36%|███▌      | 27/75 [25:25<46:16, 57.85s/it]\u001b[A\u001b[A"
          ],
          "name": "stderr"
        },
        {
          "output_type": "stream",
          "text": [
            "0.3060852673870546\n",
            "Epoch 27,                   Train: loss=0.003, accuracy=90.6%,                   Valid: loss=0.003, accuracy=89.6%\n"
          ],
          "name": "stdout"
        },
        {
          "output_type": "stream",
          "text": [
            "\n",
            "\n",
            " 37%|███▋      | 28/75 [26:23<45:16, 57.80s/it]\u001b[A\u001b[A"
          ],
          "name": "stderr"
        },
        {
          "output_type": "stream",
          "text": [
            "0.28711663647382346\n",
            "Epoch 28,                   Train: loss=0.003, accuracy=92.5%,                   Valid: loss=0.003, accuracy=91.5%\n"
          ],
          "name": "stdout"
        },
        {
          "output_type": "stream",
          "text": [
            "\n",
            "\n",
            " 39%|███▊      | 29/75 [27:20<44:18, 57.79s/it]\u001b[A\u001b[A"
          ],
          "name": "stderr"
        },
        {
          "output_type": "stream",
          "text": [
            "0.2683340247444533\n",
            "Epoch 29,                   Train: loss=0.003, accuracy=92.6%,                   Valid: loss=0.003, accuracy=91.9%\n"
          ],
          "name": "stdout"
        },
        {
          "output_type": "stream",
          "text": [
            "\n",
            "\n",
            " 40%|████      | 30/75 [28:18<43:19, 57.76s/it]\u001b[A\u001b[A"
          ],
          "name": "stderr"
        },
        {
          "output_type": "stream",
          "text": [
            "0.25429542961495893\n",
            "Epoch 30,                   Train: loss=0.003, accuracy=91.9%,                   Valid: loss=0.003, accuracy=91.3%\n"
          ],
          "name": "stdout"
        },
        {
          "output_type": "stream",
          "text": [
            "\n",
            "\n",
            " 41%|████▏     | 31/75 [29:16<42:21, 57.77s/it]\u001b[A\u001b[A"
          ],
          "name": "stderr"
        },
        {
          "output_type": "stream",
          "text": [
            "0.24001126123799219\n",
            "Epoch 31,                   Train: loss=0.002, accuracy=93.5%,                   Valid: loss=0.002, accuracy=92.7%\n"
          ],
          "name": "stdout"
        },
        {
          "output_type": "stream",
          "text": [
            "\n",
            "\n",
            " 43%|████▎     | 32/75 [30:14<41:23, 57.76s/it]\u001b[A\u001b[A"
          ],
          "name": "stderr"
        },
        {
          "output_type": "stream",
          "text": [
            "0.2314762725736256\n",
            "Epoch 32,                   Train: loss=0.002, accuracy=93.8%,                   Valid: loss=0.002, accuracy=93.0%\n"
          ],
          "name": "stdout"
        },
        {
          "output_type": "stream",
          "text": [
            "\n",
            "\n",
            " 44%|████▍     | 33/75 [31:11<40:26, 57.78s/it]\u001b[A\u001b[A"
          ],
          "name": "stderr"
        },
        {
          "output_type": "stream",
          "text": [
            "0.21821033093664383\n",
            "Epoch 33,                   Train: loss=0.002, accuracy=93.6%,                   Valid: loss=0.002, accuracy=92.9%\n"
          ],
          "name": "stdout"
        },
        {
          "output_type": "stream",
          "text": [
            "\n",
            "\n",
            " 45%|████▌     | 34/75 [32:09<39:29, 57.78s/it]\u001b[A\u001b[A"
          ],
          "name": "stderr"
        },
        {
          "output_type": "stream",
          "text": [
            "0.20898028832894786\n",
            "Epoch 34,                   Train: loss=0.002, accuracy=94.3%,                   Valid: loss=0.002, accuracy=93.9%\n"
          ],
          "name": "stdout"
        },
        {
          "output_type": "stream",
          "text": [
            "\n",
            "\n",
            " 47%|████▋     | 35/75 [33:07<38:31, 57.79s/it]\u001b[A\u001b[A"
          ],
          "name": "stderr"
        },
        {
          "output_type": "stream",
          "text": [
            "0.19991125356819894\n",
            "Epoch 35,                   Train: loss=0.002, accuracy=94.6%,                   Valid: loss=0.002, accuracy=94.1%\n"
          ],
          "name": "stdout"
        },
        {
          "output_type": "stream",
          "text": [
            "\n",
            "\n",
            " 48%|████▊     | 36/75 [34:05<37:33, 57.79s/it]\u001b[A\u001b[A"
          ],
          "name": "stderr"
        },
        {
          "output_type": "stream",
          "text": [
            "0.1981652079495015\n",
            "Epoch 36,                   Train: loss=0.002, accuracy=94.4%,                   Valid: loss=0.002, accuracy=94.1%\n"
          ],
          "name": "stdout"
        },
        {
          "output_type": "stream",
          "text": [
            "\n",
            "\n",
            " 49%|████▉     | 37/75 [35:02<36:34, 57.75s/it]\u001b[A\u001b[A"
          ],
          "name": "stderr"
        },
        {
          "output_type": "stream",
          "text": [
            "0.18521718799516007\n",
            "Epoch 37,                   Train: loss=0.002, accuracy=95.0%,                   Valid: loss=0.002, accuracy=94.5%\n"
          ],
          "name": "stdout"
        },
        {
          "output_type": "stream",
          "text": [
            "\n",
            "\n",
            " 51%|█████     | 38/75 [36:00<35:38, 57.79s/it]\u001b[A\u001b[A"
          ],
          "name": "stderr"
        },
        {
          "output_type": "stream",
          "text": [
            "0.1806586095787309\n",
            "Epoch 38,                   Train: loss=0.002, accuracy=95.0%,                   Valid: loss=0.002, accuracy=94.8%\n"
          ],
          "name": "stdout"
        },
        {
          "output_type": "stream",
          "text": [
            "\n",
            "\n",
            " 52%|█████▏    | 39/75 [36:58<34:39, 57.78s/it]\u001b[A\u001b[A"
          ],
          "name": "stderr"
        },
        {
          "output_type": "stream",
          "text": [
            "0.1733194891018448\n",
            "Epoch 39,                   Train: loss=0.002, accuracy=95.4%,                   Valid: loss=0.002, accuracy=94.9%\n"
          ],
          "name": "stdout"
        },
        {
          "output_type": "stream",
          "text": [
            "\n",
            "\n",
            " 53%|█████▎    | 40/75 [37:56<33:42, 57.78s/it]\u001b[A\u001b[A"
          ],
          "name": "stderr"
        },
        {
          "output_type": "stream",
          "text": [
            "0.16830657579832606\n",
            "Epoch 40,                   Train: loss=0.002, accuracy=95.6%,                   Valid: loss=0.002, accuracy=95.1%\n"
          ],
          "name": "stdout"
        },
        {
          "output_type": "stream",
          "text": [
            "\n",
            "\n",
            " 55%|█████▍    | 41/75 [38:54<32:44, 57.77s/it]\u001b[A\u001b[A"
          ],
          "name": "stderr"
        },
        {
          "output_type": "stream",
          "text": [
            "0.16238314921243324\n",
            "Epoch 41,                   Train: loss=0.002, accuracy=95.6%,                   Valid: loss=0.002, accuracy=94.9%\n"
          ],
          "name": "stdout"
        },
        {
          "output_type": "stream",
          "text": [
            "\n",
            "\n",
            " 56%|█████▌    | 42/75 [39:52<31:47, 57.80s/it]\u001b[A\u001b[A"
          ],
          "name": "stderr"
        },
        {
          "output_type": "stream",
          "text": [
            "0.1578728797259154\n",
            "Epoch 42,                   Train: loss=0.001, accuracy=95.8%,                   Valid: loss=0.002, accuracy=95.2%\n"
          ],
          "name": "stdout"
        },
        {
          "output_type": "stream",
          "text": [
            "\n",
            "\n",
            " 57%|█████▋    | 43/75 [40:50<30:52, 57.89s/it]\u001b[A\u001b[A"
          ],
          "name": "stderr"
        },
        {
          "output_type": "stream",
          "text": [
            "0.15225051245824606\n",
            "Epoch 43,                   Train: loss=0.002, accuracy=95.7%,                   Valid: loss=0.002, accuracy=95.4%\n"
          ],
          "name": "stdout"
        },
        {
          "output_type": "stream",
          "text": [
            "\n",
            "\n",
            " 59%|█████▊    | 44/75 [41:48<29:56, 57.94s/it]\u001b[A\u001b[A"
          ],
          "name": "stderr"
        },
        {
          "output_type": "stream",
          "text": [
            "0.14973570950053355\n",
            "Epoch 44,                   Train: loss=0.001, accuracy=96.2%,                   Valid: loss=0.002, accuracy=95.7%\n"
          ],
          "name": "stdout"
        },
        {
          "output_type": "stream",
          "text": [
            "\n",
            "\n",
            " 60%|██████    | 45/75 [42:46<28:57, 57.93s/it]\u001b[A\u001b[A"
          ],
          "name": "stderr"
        },
        {
          "output_type": "stream",
          "text": [
            "0.14729674818615118\n",
            "Epoch 45,                   Train: loss=0.002, accuracy=95.4%,                   Valid: loss=0.002, accuracy=94.6%\n"
          ],
          "name": "stdout"
        },
        {
          "output_type": "stream",
          "text": [
            "\n",
            "\n",
            " 61%|██████▏   | 46/75 [43:43<27:59, 57.92s/it]\u001b[A\u001b[A"
          ],
          "name": "stderr"
        },
        {
          "output_type": "stream",
          "text": [
            "0.14132405858210945\n",
            "Epoch 46,                   Train: loss=0.001, accuracy=95.8%,                   Valid: loss=0.002, accuracy=95.3%\n"
          ],
          "name": "stdout"
        },
        {
          "output_type": "stream",
          "text": [
            "\n",
            "\n",
            " 63%|██████▎   | 47/75 [44:41<26:59, 57.86s/it]\u001b[A\u001b[A"
          ],
          "name": "stderr"
        },
        {
          "output_type": "stream",
          "text": [
            "0.13591610476098678\n",
            "Epoch 47,                   Train: loss=0.001, accuracy=96.3%,                   Valid: loss=0.001, accuracy=95.8%\n"
          ],
          "name": "stdout"
        },
        {
          "output_type": "stream",
          "text": [
            "\n",
            "\n",
            " 64%|██████▍   | 48/75 [45:39<26:03, 57.91s/it]\u001b[A\u001b[A"
          ],
          "name": "stderr"
        },
        {
          "output_type": "stream",
          "text": [
            "0.1346777141128701\n",
            "Epoch 48,                   Train: loss=0.001, accuracy=96.4%,                   Valid: loss=0.001, accuracy=96.1%\n"
          ],
          "name": "stdout"
        },
        {
          "output_type": "stream",
          "text": [
            "\n",
            "\n",
            " 65%|██████▌   | 49/75 [46:37<25:06, 57.95s/it]\u001b[A\u001b[A"
          ],
          "name": "stderr"
        },
        {
          "output_type": "stream",
          "text": [
            "0.12976543234523247\n",
            "Epoch 49,                   Train: loss=0.001, accuracy=95.8%,                   Valid: loss=0.002, accuracy=95.4%\n"
          ],
          "name": "stdout"
        },
        {
          "output_type": "stream",
          "text": [
            "\n",
            "\n",
            " 67%|██████▋   | 50/75 [47:35<24:07, 57.91s/it]\u001b[A\u001b[A"
          ],
          "name": "stderr"
        },
        {
          "output_type": "stream",
          "text": [
            "0.12775489359197242\n",
            "Epoch 50,                   Train: loss=0.001, accuracy=96.6%,                   Valid: loss=0.001, accuracy=96.5%\n"
          ],
          "name": "stdout"
        },
        {
          "output_type": "stream",
          "text": [
            "\n",
            "\n",
            " 68%|██████▊   | 51/75 [48:33<23:09, 57.91s/it]\u001b[A\u001b[A"
          ],
          "name": "stderr"
        },
        {
          "output_type": "stream",
          "text": [
            "0.12414007521820841\n",
            "Epoch 51,                   Train: loss=0.001, accuracy=96.6%,                   Valid: loss=0.001, accuracy=96.2%\n"
          ],
          "name": "stdout"
        },
        {
          "output_type": "stream",
          "text": [
            "\n",
            "\n",
            " 69%|██████▉   | 52/75 [49:31<22:11, 57.88s/it]\u001b[A\u001b[A"
          ],
          "name": "stderr"
        },
        {
          "output_type": "stream",
          "text": [
            "0.12257418285503431\n",
            "Epoch 52,                   Train: loss=0.001, accuracy=96.6%,                   Valid: loss=0.001, accuracy=96.3%\n"
          ],
          "name": "stdout"
        },
        {
          "output_type": "stream",
          "text": [
            "\n",
            "\n",
            " 71%|███████   | 53/75 [50:29<21:14, 57.92s/it]\u001b[A\u001b[A"
          ],
          "name": "stderr"
        },
        {
          "output_type": "stream",
          "text": [
            "0.11858766824696902\n",
            "Epoch 53,                   Train: loss=0.001, accuracy=96.7%,                   Valid: loss=0.001, accuracy=96.1%\n"
          ],
          "name": "stdout"
        },
        {
          "output_type": "stream",
          "text": [
            "\n",
            "\n",
            " 72%|███████▏  | 54/75 [51:27<20:16, 57.91s/it]\u001b[A\u001b[A"
          ],
          "name": "stderr"
        },
        {
          "output_type": "stream",
          "text": [
            "0.11649712592156397\n",
            "Epoch 54,                   Train: loss=0.001, accuracy=96.9%,                   Valid: loss=0.001, accuracy=96.4%\n"
          ],
          "name": "stdout"
        },
        {
          "output_type": "stream",
          "text": [
            "\n",
            "\n",
            " 73%|███████▎  | 55/75 [52:25<19:18, 57.94s/it]\u001b[A\u001b[A"
          ],
          "name": "stderr"
        },
        {
          "output_type": "stream",
          "text": [
            "0.11394490999756036\n",
            "Epoch 55,                   Train: loss=0.001, accuracy=96.9%,                   Valid: loss=0.001, accuracy=96.4%\n"
          ],
          "name": "stdout"
        },
        {
          "output_type": "stream",
          "text": [
            "\n",
            "\n",
            " 75%|███████▍  | 56/75 [53:23<18:20, 57.90s/it]\u001b[A\u001b[A"
          ],
          "name": "stderr"
        },
        {
          "output_type": "stream",
          "text": [
            "0.11140713889013838\n",
            "Epoch 56,                   Train: loss=0.001, accuracy=97.0%,                   Valid: loss=0.001, accuracy=96.5%\n"
          ],
          "name": "stdout"
        },
        {
          "output_type": "stream",
          "text": [
            "\n",
            "\n",
            " 76%|███████▌  | 57/75 [54:20<17:22, 57.90s/it]\u001b[A\u001b[A"
          ],
          "name": "stderr"
        },
        {
          "output_type": "stream",
          "text": [
            "0.10845559190751777\n",
            "Epoch 57,                   Train: loss=0.001, accuracy=97.1%,                   Valid: loss=0.001, accuracy=96.7%\n"
          ],
          "name": "stdout"
        },
        {
          "output_type": "stream",
          "text": [
            "\n",
            "\n",
            " 77%|███████▋  | 58/75 [55:18<16:24, 57.93s/it]\u001b[A\u001b[A"
          ],
          "name": "stderr"
        },
        {
          "output_type": "stream",
          "text": [
            "0.10626288247467192\n",
            "Epoch 58,                   Train: loss=0.001, accuracy=96.8%,                   Valid: loss=0.001, accuracy=96.2%\n"
          ],
          "name": "stdout"
        },
        {
          "output_type": "stream",
          "text": [
            "\n",
            "\n",
            " 79%|███████▊  | 59/75 [56:16<15:27, 57.94s/it]\u001b[A\u001b[A"
          ],
          "name": "stderr"
        },
        {
          "output_type": "stream",
          "text": [
            "0.10395265683462775\n",
            "Epoch 59,                   Train: loss=0.001, accuracy=97.4%,                   Valid: loss=0.001, accuracy=97.0%\n"
          ],
          "name": "stdout"
        },
        {
          "output_type": "stream",
          "text": [
            "\n",
            "\n",
            " 80%|████████  | 60/75 [57:14<14:29, 57.94s/it]\u001b[A\u001b[A"
          ],
          "name": "stderr"
        },
        {
          "output_type": "stream",
          "text": [
            "0.10244268242407728\n",
            "Epoch 60,                   Train: loss=0.001, accuracy=97.2%,                   Valid: loss=0.001, accuracy=96.6%\n"
          ],
          "name": "stdout"
        },
        {
          "output_type": "stream",
          "text": [
            "\n",
            "\n",
            " 81%|████████▏ | 61/75 [58:12<13:30, 57.93s/it]\u001b[A\u001b[A"
          ],
          "name": "stderr"
        },
        {
          "output_type": "stream",
          "text": [
            "0.09934315670764557\n",
            "Epoch 61,                   Train: loss=0.001, accuracy=97.4%,                   Valid: loss=0.001, accuracy=97.0%\n"
          ],
          "name": "stdout"
        },
        {
          "output_type": "stream",
          "text": [
            "\n",
            "\n",
            " 83%|████████▎ | 62/75 [59:10<12:32, 57.90s/it]\u001b[A\u001b[A"
          ],
          "name": "stderr"
        },
        {
          "output_type": "stream",
          "text": [
            "0.09810283057115696\n",
            "Epoch 62,                   Train: loss=0.001, accuracy=97.4%,                   Valid: loss=0.001, accuracy=97.0%\n"
          ],
          "name": "stdout"
        },
        {
          "output_type": "stream",
          "text": [
            "\n",
            "\n",
            " 84%|████████▍ | 63/75 [1:00:08<11:35, 57.95s/it]\u001b[A\u001b[A"
          ],
          "name": "stderr"
        },
        {
          "output_type": "stream",
          "text": [
            "0.09594104859150118\n",
            "Epoch 63,                   Train: loss=0.001, accuracy=97.5%,                   Valid: loss=0.001, accuracy=97.0%\n"
          ],
          "name": "stdout"
        },
        {
          "output_type": "stream",
          "text": [
            "\n",
            "\n",
            " 85%|████████▌ | 64/75 [1:01:06<10:36, 57.90s/it]\u001b[A\u001b[A"
          ],
          "name": "stderr"
        },
        {
          "output_type": "stream",
          "text": [
            "0.09417175824098566\n",
            "Epoch 64,                   Train: loss=0.001, accuracy=97.5%,                   Valid: loss=0.001, accuracy=97.0%\n"
          ],
          "name": "stdout"
        },
        {
          "output_type": "stream",
          "text": [
            "\n",
            "\n",
            " 87%|████████▋ | 65/75 [1:02:04<09:39, 57.93s/it]\u001b[A\u001b[A"
          ],
          "name": "stderr"
        },
        {
          "output_type": "stream",
          "text": [
            "0.09231917264146937\n",
            "Epoch 65,                   Train: loss=0.001, accuracy=97.5%,                   Valid: loss=0.001, accuracy=97.0%\n"
          ],
          "name": "stdout"
        },
        {
          "output_type": "stream",
          "text": [
            "\n",
            "\n",
            " 88%|████████▊ | 66/75 [1:03:02<08:41, 57.89s/it]\u001b[A\u001b[A"
          ],
          "name": "stderr"
        },
        {
          "output_type": "stream",
          "text": [
            "0.08938668724839334\n",
            "Epoch 66,                   Train: loss=0.001, accuracy=97.6%,                   Valid: loss=0.001, accuracy=97.2%\n"
          ],
          "name": "stdout"
        },
        {
          "output_type": "stream",
          "text": [
            "\n",
            "\n",
            " 89%|████████▉ | 67/75 [1:03:59<07:42, 57.84s/it]\u001b[A\u001b[A"
          ],
          "name": "stderr"
        },
        {
          "output_type": "stream",
          "text": [
            "0.08822307882278606\n",
            "Epoch 67,                   Train: loss=0.001, accuracy=97.3%,                   Valid: loss=0.001, accuracy=97.0%\n"
          ],
          "name": "stdout"
        },
        {
          "output_type": "stream",
          "text": [
            "\n",
            "\n",
            " 91%|█████████ | 68/75 [1:04:57<06:44, 57.85s/it]\u001b[A\u001b[A"
          ],
          "name": "stderr"
        },
        {
          "output_type": "stream",
          "text": [
            "0.08652192372138853\n",
            "Epoch 68,                   Train: loss=0.001, accuracy=97.6%,                   Valid: loss=0.001, accuracy=96.9%\n"
          ],
          "name": "stdout"
        },
        {
          "output_type": "stream",
          "text": [
            "\n",
            "\n",
            " 92%|█████████▏| 69/75 [1:05:55<05:46, 57.80s/it]\u001b[A\u001b[A"
          ],
          "name": "stderr"
        },
        {
          "output_type": "stream",
          "text": [
            "0.08526160819111046\n",
            "Epoch 69,                   Train: loss=0.001, accuracy=97.8%,                   Valid: loss=0.001, accuracy=97.3%\n"
          ],
          "name": "stdout"
        },
        {
          "output_type": "stream",
          "text": [
            "\n",
            "\n",
            " 93%|█████████▎| 70/75 [1:06:52<04:47, 57.56s/it]\u001b[A\u001b[A"
          ],
          "name": "stderr"
        },
        {
          "output_type": "stream",
          "text": [
            "0.0838215301434199\n",
            "Epoch 70,                   Train: loss=0.001, accuracy=97.8%,                   Valid: loss=0.001, accuracy=97.4%\n"
          ],
          "name": "stdout"
        },
        {
          "output_type": "stream",
          "text": [
            "\n",
            "\n",
            " 95%|█████████▍| 71/75 [1:07:49<03:49, 57.42s/it]\u001b[A\u001b[A"
          ],
          "name": "stderr"
        },
        {
          "output_type": "stream",
          "text": [
            "0.08255814073469352\n",
            "Epoch 71,                   Train: loss=0.001, accuracy=97.9%,                   Valid: loss=0.001, accuracy=97.5%\n"
          ],
          "name": "stdout"
        },
        {
          "output_type": "stream",
          "text": [
            "\n",
            "\n",
            " 96%|█████████▌| 72/75 [1:08:47<02:52, 57.60s/it]\u001b[A\u001b[A"
          ],
          "name": "stderr"
        },
        {
          "output_type": "stream",
          "text": [
            "0.08113533934164378\n",
            "Epoch 72,                   Train: loss=0.001, accuracy=97.8%,                   Valid: loss=0.001, accuracy=97.2%\n"
          ],
          "name": "stdout"
        },
        {
          "output_type": "stream",
          "text": [
            "\n",
            "\n",
            " 97%|█████████▋| 73/75 [1:09:45<01:55, 57.67s/it]\u001b[A\u001b[A"
          ],
          "name": "stderr"
        },
        {
          "output_type": "stream",
          "text": [
            "0.07850259894125715\n",
            "Epoch 73,                   Train: loss=0.001, accuracy=97.8%,                   Valid: loss=0.001, accuracy=97.4%\n"
          ],
          "name": "stdout"
        },
        {
          "output_type": "stream",
          "text": [
            "\n",
            "\n",
            " 99%|█████████▊| 74/75 [1:10:43<00:57, 57.70s/it]\u001b[A\u001b[A"
          ],
          "name": "stderr"
        },
        {
          "output_type": "stream",
          "text": [
            "0.07797930838747157\n",
            "Epoch 74,                   Train: loss=0.001, accuracy=97.8%,                   Valid: loss=0.001, accuracy=97.3%\n"
          ],
          "name": "stdout"
        },
        {
          "output_type": "stream",
          "text": [
            "\n",
            "\n",
            "100%|██████████| 75/75 [1:11:40<00:00, 57.35s/it]"
          ],
          "name": "stderr"
        },
        {
          "output_type": "stream",
          "text": [
            "\n",
            " The total time for training in seconds is\n",
            "4300.896865606308\n",
            "Best validation accuracy = 97.283\n"
          ],
          "name": "stdout"
        },
        {
          "output_type": "stream",
          "text": [
            "\n"
          ],
          "name": "stderr"
        },
        {
          "output_type": "stream",
          "text": [
            "Confusion matrix, without normalization\n",
            "Evaluation of the best training model over test set\n",
            "------\n",
            "Loss : 0.001\n",
            "Accuracy : 97.750\n"
          ],
          "name": "stdout"
        },
        {
          "output_type": "display_data",
          "data": {
            "image/png": "[encoded data removed]",
            "text/plain": [
              "<Figure size 864x432 with 2 Axes>"
            ]
          },
          "metadata": {
            "tags": [],
            "needs_background": "light"
          }
        },
        {
          "output_type": "display_data",
          "data": {
            "image/png": "[encoded data removed]",
            "text/plain": [
              "<Figure size 432x288 with 2 Axes>"
            ]
          },
          "metadata": {
            "tags": [],
            "needs_background": "light"
          }
        }
      ]
    },
    {
      "cell_type": "markdown",
      "metadata": {
        "id": "ZmjybuHpwQMa"
      },
      "source": [
        "# Transformer\n",
        "\n",
        "https://github.com/lucidrains/vit-pytorch\n",
        "https://towardsdatascience.com/a-demonstration-of-using-vision-transformers-in-pytorch-mnist-handwritten-digit-recognition-407eafbc15b0"
      ]
    },
    {
      "cell_type": "code",
      "metadata": {
        "colab": {
          "base_uri": "https://localhost:8080/"
        },
        "id": "rL25qx6mQL0Q",
        "outputId": "21bab014-e669-4257-bc34-008150d80e16"
      },
      "source": [
        "!pip3 install vit-pytorch"
      ],
      "execution_count": null,
      "outputs": [
        {
          "output_type": "stream",
          "text": [
            "Collecting vit-pytorch\n",
            "  Downloading https://files.pythonhosted.org/packages/54/bc/21072dbe838b9313d40c80857e774917c57634d27ddfaeaf903d8209778a/vit_pytorch-0.8.0-py3-none-any.whl\n",
            "Collecting einops>=0.3\n",
            "  Downloading https://files.pythonhosted.org/packages/5d/a0/9935e030634bf60ecd572c775f64ace82ceddf2f504a5fd3902438f07090/einops-0.3.0-py2.py3-none-any.whl\n",
            "Requirement already satisfied: torch>=1.6 in /usr/local/lib/python3.7/dist-packages (from vit-pytorch) (1.8.0+cu101)\n",
            "Requirement already satisfied: typing-extensions in /usr/local/lib/python3.7/dist-packages (from torch>=1.6->vit-pytorch) (3.7.4.3)\n",
            "Requirement already satisfied: numpy in /usr/local/lib/python3.7/dist-packages (from torch>=1.6->vit-pytorch) (1.19.5)\n",
            "Installing collected packages: einops, vit-pytorch\n",
            "Successfully installed einops-0.3.0 vit-pytorch-0.8.0\n"
          ],
          "name": "stdout"
        }
      ]
    },
    {
      "cell_type": "code",
      "metadata": {
        "id": "dBpwSu4iQJch"
      },
      "source": [
        "from vit_pytorch import ViT\n",
        "import torch.nn.functional as F\n"
      ],
      "execution_count": null,
      "outputs": []
    },
    {
      "cell_type": "code",
      "metadata": {
        "id": "1w6J49GC-zcr"
      },
      "source": [
        "\n",
        "def accuracy_and_loss_whole_dataset(data_loader, model, isTest):\n",
        "  loss     = 0.\n",
        "  criterion = nn.CrossEntropyLoss()\n",
        "  n_correct = 0\n",
        "  n_samples = 0\n",
        "\n",
        "  model.train()\n",
        "  \n",
        "  with torch.no_grad():\n",
        "\n",
        "      for data, labels in data_loader:\n",
        "        \n",
        "          output = F.log_softmax(model(data), dim=1)\n",
        "\n",
        "\n",
        "          loss += F.nll_loss(output, labels)\n",
        "\n",
        "          _, predicted = torch.max(output.data, 1)\n",
        "\n",
        "          n_samples += output.shape[0]\n",
        "          n_correct += (predicted == labels).sum().item()\n",
        "\n",
        "      loss = loss / float(n_samples)\n",
        "\n",
        "      acc =  n_correct / n_samples\n",
        "      del n_samples\n",
        "\n",
        "      if isTest:\n",
        "        plot_confusion_matrix(labels, predicted, classes= [0,1,2,3,4,5,6,7,8,9],title='Confusion matrix, without normalization')\n",
        "\n",
        "\n",
        "      return acc, loss"
      ],
      "execution_count": null,
      "outputs": []
    },
    {
      "cell_type": "code",
      "metadata": {
        "id": "1nneoA2gH6Zy"
      },
      "source": [
        "def train_epoch(model, lr=0.1, nb_epochs=1, seed=None, data_loader_train=None, data_loader_val=None):\n",
        "    best_model = None\n",
        "    best_test_accuracy = 0\n",
        "    best_accuracy = 0\n",
        "    logger = Logger()\n",
        "\n",
        "\n",
        "\n",
        "    t0 = time.time()\n",
        "    for epoch in tqdm(range(nb_epochs)):\n",
        "        if epoch > 0:\n",
        "          total_samples = len(data_loader_train.dataset)\n",
        "          model.train()\n",
        "          for i, (data, label) in enumerate(data_loader_train):\n",
        "\n",
        "              optimizer.zero_grad()\n",
        "              output = F.log_softmax(model(data), dim=1)\n",
        "              loss = F.nll_loss(output, label)\n",
        "              loss.backward()\n",
        "              optimizer.step()\n",
        "\n",
        "\n",
        "        accuracy_train, loss_train,  = accuracy_and_loss_whole_dataset(data_loader_train, model, False)\n",
        "        accuracy_val, loss_val,  = accuracy_and_loss_whole_dataset(data_loader_val, model, False)\n",
        "        \n",
        "        if accuracy_val > best_accuracy:\n",
        "          best_model = model\n",
        "          best_val_accuracy = accuracy_val\n",
        "\n",
        "        logger.log(accuracy_train, loss_train, accuracy_val, loss_val)\n",
        "        if epoch % 1 == 0: \n",
        "          print(f\"Epoch {epoch:2d}, \\\n",
        "                  Train: loss={loss_train:.3f}, accuracy={accuracy_train*100:.1f}%, \\\n",
        "                  Valid: loss={loss_val:.3f}, accuracy={accuracy_val*100:.1f}%\", flush=True)\n",
        "          \n",
        "\n",
        "\n",
        "    t1 = time.time()\n",
        "    print('\\n The total time for training in seconds is')\n",
        "    print(t1-t0)\n",
        "\n",
        "    return best_model, best_val_accuracy, logger\n"
      ],
      "execution_count": null,
      "outputs": []
    },
    {
      "cell_type": "code",
      "metadata": {
        "colab": {
          "base_uri": "https://localhost:8080/",
          "height": 1000
        },
        "id": "C2ZpvLBmCPqM",
        "outputId": "02991551-df6d-4abb-f0f1-26dba4fe5961"
      },
      "source": [
        "\n",
        "data_loader_train, data_loader_val, data_loader_test = get_fashion_mnist_dataloaders(val_percentage=0.1, batch_size=100)\n",
        "\n",
        "model = ViT(image_size=28, patch_size=7, num_classes=10, channels=1,\n",
        "            dim=64, depth=6, heads=8, mlp_dim=128)\n",
        "\n",
        "optimizer = torch.optim.Adam(model.parameters(), lr=0.003)\n",
        "\n",
        "best_model, best_val_accuracy, logger = train_epoch(model,lr=0.003, nb_epochs=10,data_loader_train=data_loader_train, data_loader_val=data_loader_val)\n",
        "\n",
        "logger.plot_loss_and_accuracy()\n",
        "print(f\"Best validation accuracy = {best_val_accuracy*100:.3f}\")\n",
        "\n",
        "accuracy_test, loss_test = accuracy_and_loss_whole_dataset(data_loader_test, best_model, True)\n",
        "print(\"Evaluation of the best training model over test set\")\n",
        "print(\"------\")\n",
        "print(f\"Loss : {loss_test:.3f}\")\n",
        "print(f\"Accuracy : {accuracy_test*100.:.3f}\")"
      ],
      "execution_count": null,
      "outputs": [
        {
          "output_type": "stream",
          "text": [
            "\n",
            "\n",
            "\n",
            "\n",
            "\n",
            "  0%|          | 0/10 [00:00<?, ?it/s]\u001b[A\u001b[A\u001b[A\u001b[A\u001b[A"
          ],
          "name": "stderr"
        },
        {
          "output_type": "stream",
          "text": [
            "Epoch  0,                   Train: loss=0.025, accuracy=10.2%,                   Valid: loss=0.025, accuracy=10.1%\n"
          ],
          "name": "stdout"
        },
        {
          "output_type": "stream",
          "text": [
            "\n",
            "\n",
            "\n",
            "\n",
            "\n",
            " 10%|█         | 1/10 [01:33<14:02, 93.57s/it]\u001b[A\u001b[A\u001b[A\u001b[A\u001b[A"
          ],
          "name": "stderr"
        },
        {
          "output_type": "stream",
          "text": [
            "Epoch  1,                   Train: loss=0.002, accuracy=93.3%,                   Valid: loss=0.002, accuracy=93.0%\n"
          ],
          "name": "stdout"
        },
        {
          "output_type": "stream",
          "text": [
            "\n",
            "\n",
            "\n",
            "\n",
            "\n",
            " 20%|██        | 2/10 [06:41<21:03, 157.92s/it]\u001b[A\u001b[A\u001b[A\u001b[A\u001b[A"
          ],
          "name": "stderr"
        },
        {
          "output_type": "stream",
          "text": [
            "Epoch  2,                   Train: loss=0.002, accuracy=95.1%,                   Valid: loss=0.002, accuracy=94.6%\n"
          ],
          "name": "stdout"
        },
        {
          "output_type": "stream",
          "text": [
            "\n",
            "\n",
            "\n",
            "\n",
            "\n",
            " 30%|███       | 3/10 [11:53<23:48, 204.09s/it]\u001b[A\u001b[A\u001b[A\u001b[A\u001b[A"
          ],
          "name": "stderr"
        },
        {
          "output_type": "stream",
          "text": [
            "Epoch  3,                   Train: loss=0.001, accuracy=95.7%,                   Valid: loss=0.002, accuracy=95.0%\n"
          ],
          "name": "stdout"
        },
        {
          "output_type": "stream",
          "text": [
            "\n",
            "\n",
            "\n",
            "\n",
            "\n",
            " 40%|████      | 4/10 [17:09<23:46, 237.69s/it]\u001b[A\u001b[A\u001b[A\u001b[A\u001b[A"
          ],
          "name": "stderr"
        },
        {
          "output_type": "stream",
          "text": [
            "Epoch  4,                   Train: loss=0.001, accuracy=96.4%,                   Valid: loss=0.001, accuracy=95.7%\n"
          ],
          "name": "stdout"
        },
        {
          "output_type": "stream",
          "text": [
            "\n",
            "\n",
            "\n",
            "\n",
            "\n",
            " 50%|█████     | 5/10 [22:28<21:49, 261.95s/it]\u001b[A\u001b[A\u001b[A\u001b[A\u001b[A"
          ],
          "name": "stderr"
        },
        {
          "output_type": "stream",
          "text": [
            "Epoch  5,                   Train: loss=0.001, accuracy=96.3%,                   Valid: loss=0.001, accuracy=95.7%\n"
          ],
          "name": "stdout"
        },
        {
          "output_type": "stream",
          "text": [
            "\n",
            "\n",
            "\n",
            "\n",
            "\n",
            " 60%|██████    | 6/10 [27:44<18:33, 278.38s/it]\u001b[A\u001b[A\u001b[A\u001b[A\u001b[A"
          ],
          "name": "stderr"
        },
        {
          "output_type": "stream",
          "text": [
            "Epoch  6,                   Train: loss=0.001, accuracy=97.5%,                   Valid: loss=0.001, accuracy=96.8%\n"
          ],
          "name": "stdout"
        },
        {
          "output_type": "stream",
          "text": [
            "\n",
            "\n",
            "\n",
            "\n",
            "\n",
            " 70%|███████   | 7/10 [33:02<14:30, 290.15s/it]\u001b[A\u001b[A\u001b[A\u001b[A\u001b[A"
          ],
          "name": "stderr"
        },
        {
          "output_type": "stream",
          "text": [
            "Epoch  7,                   Train: loss=0.001, accuracy=97.3%,                   Valid: loss=0.001, accuracy=96.6%\n"
          ],
          "name": "stdout"
        },
        {
          "output_type": "stream",
          "text": [
            "\n",
            "\n",
            "\n",
            "\n",
            "\n",
            " 80%|████████  | 8/10 [38:17<09:55, 297.58s/it]\u001b[A\u001b[A\u001b[A\u001b[A\u001b[A"
          ],
          "name": "stderr"
        },
        {
          "output_type": "stream",
          "text": [
            "Epoch  8,                   Train: loss=0.001, accuracy=97.6%,                   Valid: loss=0.001, accuracy=96.8%\n"
          ],
          "name": "stdout"
        },
        {
          "output_type": "stream",
          "text": [
            "\n",
            "\n",
            "\n",
            "\n",
            "\n",
            " 90%|█████████ | 9/10 [43:32<05:02, 302.89s/it]\u001b[A\u001b[A\u001b[A\u001b[A\u001b[A"
          ],
          "name": "stderr"
        },
        {
          "output_type": "stream",
          "text": [
            "Epoch  9,                   Train: loss=0.001, accuracy=98.3%,                   Valid: loss=0.001, accuracy=97.2%\n"
          ],
          "name": "stdout"
        },
        {
          "output_type": "stream",
          "text": [
            "\n",
            "\n",
            "\n",
            "\n",
            "\n",
            "100%|██████████| 10/10 [48:48<00:00, 292.86s/it]"
          ],
          "name": "stderr"
        },
        {
          "output_type": "stream",
          "text": [
            "\n",
            " The total time for training in seconds is\n",
            "2928.563238143921\n",
            "Best validation accuracy = 97.200\n"
          ],
          "name": "stdout"
        },
        {
          "output_type": "stream",
          "text": [
            "\n"
          ],
          "name": "stderr"
        },
        {
          "output_type": "stream",
          "text": [
            "Confusion matrix, without normalization\n",
            "Evaluation of the best training model over test set\n",
            "------\n",
            "Loss : 0.001\n",
            "Accuracy : 97.450\n"
          ],
          "name": "stdout"
        },
        {
          "output_type": "display_data",
          "data": {
            "image/png": "[encoded data removed]",
            "text/plain": [
              "<Figure size 864x432 with 2 Axes>"
            ]
          },
          "metadata": {
            "tags": [],
            "needs_background": "light"
          }
        },
        {
          "output_type": "display_data",
          "data": {
            "image/png": "[encoded data removed]",
            "text/plain": [
              "<Figure size 432x288 with 2 Axes>"
            ]
          },
          "metadata": {
            "tags": [],
            "needs_background": "light"
          }
        }
      ]
    },
    {
      "cell_type": "code",
      "metadata": {
        "id": "ai4LXjY9QO6T",
        "colab": {
          "base_uri": "https://localhost:8080/",
          "height": 1000
        },
        "outputId": "00e48bd4-2e46-4200-add5-8efc5b07d149"
      },
      "source": [
        "model = ViT(image_size=28, patch_size=7, num_classes=10, channels=1,\n",
        "            dim=64, depth=6, heads=8, mlp_dim=128)\n",
        "\n",
        "s(model, torch.zeros((1, 1, 28, 28)))\n"
      ],
      "execution_count": null,
      "outputs": [
        {
          "output_type": "stream",
          "text": [
            "================================================================================================\n",
            "                                                 Kernel Shape   Output Shape  \\\n",
            "Layer                                                                          \n",
            "0_to_patch_embedding.Rearrange_0                            -    [1, 16, 49]   \n",
            "1_to_patch_embedding.Linear_1                        [49, 64]    [1, 16, 64]   \n",
            "2_dropout                                                   -    [1, 17, 64]   \n",
            "3_transformer.layers.0.0.fn.LayerNorm_norm               [64]    [1, 17, 64]   \n",
            "4_transformer.layers.0.0.fn.fn.Linear_to_qkv       [64, 1536]  [1, 17, 1536]   \n",
            "5_transformer.layers.0.0.fn.fn.to_out.Linear_0      [512, 64]    [1, 17, 64]   \n",
            "6_transformer.layers.0.0.fn.fn.to_out.Dropout_1             -    [1, 17, 64]   \n",
            "7_transformer.layers.0.1.fn.LayerNorm_norm               [64]    [1, 17, 64]   \n",
            "8_transformer.layers.0.1.fn.fn.net.Linear_0         [64, 128]   [1, 17, 128]   \n",
            "9_transformer.layers.0.1.fn.fn.net.GELU_1                   -   [1, 17, 128]   \n",
            "10_transformer.layers.0.1.fn.fn.net.Dropout_2               -   [1, 17, 128]   \n",
            "11_transformer.layers.0.1.fn.fn.net.Linear_3        [128, 64]    [1, 17, 64]   \n",
            "12_transformer.layers.0.1.fn.fn.net.Dropout_4               -    [1, 17, 64]   \n",
            "13_transformer.layers.1.0.fn.LayerNorm_norm              [64]    [1, 17, 64]   \n",
            "14_transformer.layers.1.0.fn.fn.Linear_to_qkv      [64, 1536]  [1, 17, 1536]   \n",
            "15_transformer.layers.1.0.fn.fn.to_out.Linear_0     [512, 64]    [1, 17, 64]   \n",
            "16_transformer.layers.1.0.fn.fn.to_out.Dropout_1            -    [1, 17, 64]   \n",
            "17_transformer.layers.1.1.fn.LayerNorm_norm              [64]    [1, 17, 64]   \n",
            "18_transformer.layers.1.1.fn.fn.net.Linear_0        [64, 128]   [1, 17, 128]   \n",
            "19_transformer.layers.1.1.fn.fn.net.GELU_1                  -   [1, 17, 128]   \n",
            "20_transformer.layers.1.1.fn.fn.net.Dropout_2               -   [1, 17, 128]   \n",
            "21_transformer.layers.1.1.fn.fn.net.Linear_3        [128, 64]    [1, 17, 64]   \n",
            "22_transformer.layers.1.1.fn.fn.net.Dropout_4               -    [1, 17, 64]   \n",
            "23_transformer.layers.2.0.fn.LayerNorm_norm              [64]    [1, 17, 64]   \n",
            "24_transformer.layers.2.0.fn.fn.Linear_to_qkv      [64, 1536]  [1, 17, 1536]   \n",
            "25_transformer.layers.2.0.fn.fn.to_out.Linear_0     [512, 64]    [1, 17, 64]   \n",
            "26_transformer.layers.2.0.fn.fn.to_out.Dropout_1            -    [1, 17, 64]   \n",
            "27_transformer.layers.2.1.fn.LayerNorm_norm              [64]    [1, 17, 64]   \n",
            "28_transformer.layers.2.1.fn.fn.net.Linear_0        [64, 128]   [1, 17, 128]   \n",
            "29_transformer.layers.2.1.fn.fn.net.GELU_1                  -   [1, 17, 128]   \n",
            "30_transformer.layers.2.1.fn.fn.net.Dropout_2               -   [1, 17, 128]   \n",
            "31_transformer.layers.2.1.fn.fn.net.Linear_3        [128, 64]    [1, 17, 64]   \n",
            "32_transformer.layers.2.1.fn.fn.net.Dropout_4               -    [1, 17, 64]   \n",
            "33_transformer.layers.3.0.fn.LayerNorm_norm              [64]    [1, 17, 64]   \n",
            "34_transformer.layers.3.0.fn.fn.Linear_to_qkv      [64, 1536]  [1, 17, 1536]   \n",
            "35_transformer.layers.3.0.fn.fn.to_out.Linear_0     [512, 64]    [1, 17, 64]   \n",
            "36_transformer.layers.3.0.fn.fn.to_out.Dropout_1            -    [1, 17, 64]   \n",
            "37_transformer.layers.3.1.fn.LayerNorm_norm              [64]    [1, 17, 64]   \n",
            "38_transformer.layers.3.1.fn.fn.net.Linear_0        [64, 128]   [1, 17, 128]   \n",
            "39_transformer.layers.3.1.fn.fn.net.GELU_1                  -   [1, 17, 128]   \n",
            "40_transformer.layers.3.1.fn.fn.net.Dropout_2               -   [1, 17, 128]   \n",
            "41_transformer.layers.3.1.fn.fn.net.Linear_3        [128, 64]    [1, 17, 64]   \n",
            "42_transformer.layers.3.1.fn.fn.net.Dropout_4               -    [1, 17, 64]   \n",
            "43_transformer.layers.4.0.fn.LayerNorm_norm              [64]    [1, 17, 64]   \n",
            "44_transformer.layers.4.0.fn.fn.Linear_to_qkv      [64, 1536]  [1, 17, 1536]   \n",
            "45_transformer.layers.4.0.fn.fn.to_out.Linear_0     [512, 64]    [1, 17, 64]   \n",
            "46_transformer.layers.4.0.fn.fn.to_out.Dropout_1            -    [1, 17, 64]   \n",
            "47_transformer.layers.4.1.fn.LayerNorm_norm              [64]    [1, 17, 64]   \n",
            "48_transformer.layers.4.1.fn.fn.net.Linear_0        [64, 128]   [1, 17, 128]   \n",
            "49_transformer.layers.4.1.fn.fn.net.GELU_1                  -   [1, 17, 128]   \n",
            "50_transformer.layers.4.1.fn.fn.net.Dropout_2               -   [1, 17, 128]   \n",
            "51_transformer.layers.4.1.fn.fn.net.Linear_3        [128, 64]    [1, 17, 64]   \n",
            "52_transformer.layers.4.1.fn.fn.net.Dropout_4               -    [1, 17, 64]   \n",
            "53_transformer.layers.5.0.fn.LayerNorm_norm              [64]    [1, 17, 64]   \n",
            "54_transformer.layers.5.0.fn.fn.Linear_to_qkv      [64, 1536]  [1, 17, 1536]   \n",
            "55_transformer.layers.5.0.fn.fn.to_out.Linear_0     [512, 64]    [1, 17, 64]   \n",
            "56_transformer.layers.5.0.fn.fn.to_out.Dropout_1            -    [1, 17, 64]   \n",
            "57_transformer.layers.5.1.fn.LayerNorm_norm              [64]    [1, 17, 64]   \n",
            "58_transformer.layers.5.1.fn.fn.net.Linear_0        [64, 128]   [1, 17, 128]   \n",
            "59_transformer.layers.5.1.fn.fn.net.GELU_1                  -   [1, 17, 128]   \n",
            "60_transformer.layers.5.1.fn.fn.net.Dropout_2               -   [1, 17, 128]   \n",
            "61_transformer.layers.5.1.fn.fn.net.Linear_3        [128, 64]    [1, 17, 64]   \n",
            "62_transformer.layers.5.1.fn.fn.net.Dropout_4               -    [1, 17, 64]   \n",
            "63_to_latent                                                -        [1, 64]   \n",
            "64_mlp_head.LayerNorm_0                                  [64]        [1, 64]   \n",
            "65_mlp_head.Linear_1                                 [64, 10]        [1, 10]   \n",
            "\n",
            "                                                   Params Mult-Adds  \n",
            "Layer                                                                \n",
            "0_to_patch_embedding.Rearrange_0                        -         -  \n",
            "1_to_patch_embedding.Linear_1                        3.2k    3.136k  \n",
            "2_dropout                                               -         -  \n",
            "3_transformer.layers.0.0.fn.LayerNorm_norm          128.0      64.0  \n",
            "4_transformer.layers.0.0.fn.fn.Linear_to_qkv      98.304k   98.304k  \n",
            "5_transformer.layers.0.0.fn.fn.to_out.Linear_0    32.832k   32.768k  \n",
            "6_transformer.layers.0.0.fn.fn.to_out.Dropout_1         -         -  \n",
            "7_transformer.layers.0.1.fn.LayerNorm_norm          128.0      64.0  \n",
            "8_transformer.layers.0.1.fn.fn.net.Linear_0         8.32k    8.192k  \n",
            "9_transformer.layers.0.1.fn.fn.net.GELU_1               -         -  \n",
            "10_transformer.layers.0.1.fn.fn.net.Dropout_2           -         -  \n",
            "11_transformer.layers.0.1.fn.fn.net.Linear_3       8.256k    8.192k  \n",
            "12_transformer.layers.0.1.fn.fn.net.Dropout_4           -         -  \n",
            "13_transformer.layers.1.0.fn.LayerNorm_norm         128.0      64.0  \n",
            "14_transformer.layers.1.0.fn.fn.Linear_to_qkv     98.304k   98.304k  \n",
            "15_transformer.layers.1.0.fn.fn.to_out.Linear_0   32.832k   32.768k  \n",
            "16_transformer.layers.1.0.fn.fn.to_out.Dropout_1        -         -  \n",
            "17_transformer.layers.1.1.fn.LayerNorm_norm         128.0      64.0  \n",
            "18_transformer.layers.1.1.fn.fn.net.Linear_0        8.32k    8.192k  \n",
            "19_transformer.layers.1.1.fn.fn.net.GELU_1              -         -  \n",
            "20_transformer.layers.1.1.fn.fn.net.Dropout_2           -         -  \n",
            "21_transformer.layers.1.1.fn.fn.net.Linear_3       8.256k    8.192k  \n",
            "22_transformer.layers.1.1.fn.fn.net.Dropout_4           -         -  \n",
            "23_transformer.layers.2.0.fn.LayerNorm_norm         128.0      64.0  \n",
            "24_transformer.layers.2.0.fn.fn.Linear_to_qkv     98.304k   98.304k  \n",
            "25_transformer.layers.2.0.fn.fn.to_out.Linear_0   32.832k   32.768k  \n",
            "26_transformer.layers.2.0.fn.fn.to_out.Dropout_1        -         -  \n",
            "27_transformer.layers.2.1.fn.LayerNorm_norm         128.0      64.0  \n",
            "28_transformer.layers.2.1.fn.fn.net.Linear_0        8.32k    8.192k  \n",
            "29_transformer.layers.2.1.fn.fn.net.GELU_1              -         -  \n",
            "30_transformer.layers.2.1.fn.fn.net.Dropout_2           -         -  \n",
            "31_transformer.layers.2.1.fn.fn.net.Linear_3       8.256k    8.192k  \n",
            "32_transformer.layers.2.1.fn.fn.net.Dropout_4           -         -  \n",
            "33_transformer.layers.3.0.fn.LayerNorm_norm         128.0      64.0  \n",
            "34_transformer.layers.3.0.fn.fn.Linear_to_qkv     98.304k   98.304k  \n",
            "35_transformer.layers.3.0.fn.fn.to_out.Linear_0   32.832k   32.768k  \n",
            "36_transformer.layers.3.0.fn.fn.to_out.Dropout_1        -         -  \n",
            "37_transformer.layers.3.1.fn.LayerNorm_norm         128.0      64.0  \n",
            "38_transformer.layers.3.1.fn.fn.net.Linear_0        8.32k    8.192k  \n",
            "39_transformer.layers.3.1.fn.fn.net.GELU_1              -         -  \n",
            "40_transformer.layers.3.1.fn.fn.net.Dropout_2           -         -  \n",
            "41_transformer.layers.3.1.fn.fn.net.Linear_3       8.256k    8.192k  \n",
            "42_transformer.layers.3.1.fn.fn.net.Dropout_4           -         -  \n",
            "43_transformer.layers.4.0.fn.LayerNorm_norm         128.0      64.0  \n",
            "44_transformer.layers.4.0.fn.fn.Linear_to_qkv     98.304k   98.304k  \n",
            "45_transformer.layers.4.0.fn.fn.to_out.Linear_0   32.832k   32.768k  \n",
            "46_transformer.layers.4.0.fn.fn.to_out.Dropout_1        -         -  \n",
            "47_transformer.layers.4.1.fn.LayerNorm_norm         128.0      64.0  \n",
            "48_transformer.layers.4.1.fn.fn.net.Linear_0        8.32k    8.192k  \n",
            "49_transformer.layers.4.1.fn.fn.net.GELU_1              -         -  \n",
            "50_transformer.layers.4.1.fn.fn.net.Dropout_2           -         -  \n",
            "51_transformer.layers.4.1.fn.fn.net.Linear_3       8.256k    8.192k  \n",
            "52_transformer.layers.4.1.fn.fn.net.Dropout_4           -         -  \n",
            "53_transformer.layers.5.0.fn.LayerNorm_norm         128.0      64.0  \n",
            "54_transformer.layers.5.0.fn.fn.Linear_to_qkv     98.304k   98.304k  \n",
            "55_transformer.layers.5.0.fn.fn.to_out.Linear_0   32.832k   32.768k  \n",
            "56_transformer.layers.5.0.fn.fn.to_out.Dropout_1        -         -  \n",
            "57_transformer.layers.5.1.fn.LayerNorm_norm         128.0      64.0  \n",
            "58_transformer.layers.5.1.fn.fn.net.Linear_0        8.32k    8.192k  \n",
            "59_transformer.layers.5.1.fn.fn.net.GELU_1              -         -  \n",
            "60_transformer.layers.5.1.fn.fn.net.Dropout_2           -         -  \n",
            "61_transformer.layers.5.1.fn.fn.net.Linear_3       8.256k    8.192k  \n",
            "62_transformer.layers.5.1.fn.fn.net.Dropout_4           -         -  \n",
            "63_to_latent                                            -         -  \n",
            "64_mlp_head.LayerNorm_0                             128.0      64.0  \n",
            "65_mlp_head.Linear_1                                650.0     640.0  \n",
            "------------------------------------------------------------------------------------------------\n",
            "                        Totals\n",
            "Total params          891.786k\n",
            "Trainable params      891.786k\n",
            "Non-trainable params       0.0\n",
            "Mult-Adds             889.344k\n",
            "================================================================================================\n"
          ],
          "name": "stdout"
        },
        {
          "output_type": "execute_result",
          "data": {
            "text/html": [
              "<div>\n",
              "<style scoped>\n",
              "    .dataframe tbody tr th:only-of-type {\n",
              "        vertical-align: middle;\n",
              "    }\n",
              "\n",
              "    .dataframe tbody tr th {\n",
              "        vertical-align: top;\n",
              "    }\n",
              "\n",
              "    .dataframe thead th {\n",
              "        text-align: right;\n",
              "    }\n",
              "</style>\n",
              "<table border=\"1\" class=\"dataframe\">\n",
              "  <thead>\n",
              "    <tr style=\"text-align: right;\">\n",
              "      <th></th>\n",
              "      <th>Kernel Shape</th>\n",
              "      <th>Output Shape</th>\n",
              "      <th>Params</th>\n",
              "      <th>Mult-Adds</th>\n",
              "    </tr>\n",
              "    <tr>\n",
              "      <th>Layer</th>\n",
              "      <th></th>\n",
              "      <th></th>\n",
              "      <th></th>\n",
              "      <th></th>\n",
              "    </tr>\n",
              "  </thead>\n",
              "  <tbody>\n",
              "    <tr>\n",
              "      <th>0_to_patch_embedding.Rearrange_0</th>\n",
              "      <td>-</td>\n",
              "      <td>[1, 16, 49]</td>\n",
              "      <td>NaN</td>\n",
              "      <td>NaN</td>\n",
              "    </tr>\n",
              "    <tr>\n",
              "      <th>1_to_patch_embedding.Linear_1</th>\n",
              "      <td>[49, 64]</td>\n",
              "      <td>[1, 16, 64]</td>\n",
              "      <td>3200.0</td>\n",
              "      <td>3136.0</td>\n",
              "    </tr>\n",
              "    <tr>\n",
              "      <th>2_dropout</th>\n",
              "      <td>-</td>\n",
              "      <td>[1, 17, 64]</td>\n",
              "      <td>NaN</td>\n",
              "      <td>NaN</td>\n",
              "    </tr>\n",
              "    <tr>\n",
              "      <th>3_transformer.layers.0.0.fn.LayerNorm_norm</th>\n",
              "      <td>[64]</td>\n",
              "      <td>[1, 17, 64]</td>\n",
              "      <td>128.0</td>\n",
              "      <td>64.0</td>\n",
              "    </tr>\n",
              "    <tr>\n",
              "      <th>4_transformer.layers.0.0.fn.fn.Linear_to_qkv</th>\n",
              "      <td>[64, 1536]</td>\n",
              "      <td>[1, 17, 1536]</td>\n",
              "      <td>98304.0</td>\n",
              "      <td>98304.0</td>\n",
              "    </tr>\n",
              "    <tr>\n",
              "      <th>...</th>\n",
              "      <td>...</td>\n",
              "      <td>...</td>\n",
              "      <td>...</td>\n",
              "      <td>...</td>\n",
              "    </tr>\n",
              "    <tr>\n",
              "      <th>61_transformer.layers.5.1.fn.fn.net.Linear_3</th>\n",
              "      <td>[128, 64]</td>\n",
              "      <td>[1, 17, 64]</td>\n",
              "      <td>8256.0</td>\n",
              "      <td>8192.0</td>\n",
              "    </tr>\n",
              "    <tr>\n",
              "      <th>62_transformer.layers.5.1.fn.fn.net.Dropout_4</th>\n",
              "      <td>-</td>\n",
              "      <td>[1, 17, 64]</td>\n",
              "      <td>NaN</td>\n",
              "      <td>NaN</td>\n",
              "    </tr>\n",
              "    <tr>\n",
              "      <th>63_to_latent</th>\n",
              "      <td>-</td>\n",
              "      <td>[1, 64]</td>\n",
              "      <td>NaN</td>\n",
              "      <td>NaN</td>\n",
              "    </tr>\n",
              "    <tr>\n",
              "      <th>64_mlp_head.LayerNorm_0</th>\n",
              "      <td>[64]</td>\n",
              "      <td>[1, 64]</td>\n",
              "      <td>128.0</td>\n",
              "      <td>64.0</td>\n",
              "    </tr>\n",
              "    <tr>\n",
              "      <th>65_mlp_head.Linear_1</th>\n",
              "      <td>[64, 10]</td>\n",
              "      <td>[1, 10]</td>\n",
              "      <td>650.0</td>\n",
              "      <td>640.0</td>\n",
              "    </tr>\n",
              "  </tbody>\n",
              "</table>\n",
              "<p>66 rows × 4 columns</p>\n",
              "</div>"
            ],
            "text/plain": [
              "                                              Kernel Shape  ... Mult-Adds\n",
              "Layer                                                       ...          \n",
              "0_to_patch_embedding.Rearrange_0                         -  ...       NaN\n",
              "1_to_patch_embedding.Linear_1                     [49, 64]  ...    3136.0\n",
              "2_dropout                                                -  ...       NaN\n",
              "3_transformer.layers.0.0.fn.LayerNorm_norm            [64]  ...      64.0\n",
              "4_transformer.layers.0.0.fn.fn.Linear_to_qkv    [64, 1536]  ...   98304.0\n",
              "...                                                    ...  ...       ...\n",
              "61_transformer.layers.5.1.fn.fn.net.Linear_3     [128, 64]  ...    8192.0\n",
              "62_transformer.layers.5.1.fn.fn.net.Dropout_4            -  ...       NaN\n",
              "63_to_latent                                             -  ...       NaN\n",
              "64_mlp_head.LayerNorm_0                               [64]  ...      64.0\n",
              "65_mlp_head.Linear_1                              [64, 10]  ...     640.0\n",
              "\n",
              "[66 rows x 4 columns]"
            ]
          },
          "metadata": {
            "tags": []
          },
          "execution_count": 89
        }
      ]
    },
    {
      "cell_type": "code",
      "metadata": {
        "id": "m7dOP-ZQZCJj"
      },
      "source": [
        ""
      ],
      "execution_count": null,
      "outputs": []
    }
  ]
}